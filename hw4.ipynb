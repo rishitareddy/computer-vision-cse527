{
  "nbformat": 4,
  "nbformat_minor": 0,
  "metadata": {
    "anaconda-cloud": {},
    "colab": {
      "name": "Punuru_RishitaReddy_113274815_hw4.ipynb",
      "provenance": [],
      "collapsed_sections": [],
      "toc_visible": true,
      "history_visible": true,
      "machine_shape": "hm"
    },
    "kernelspec": {
      "display_name": "Python 3",
      "language": "python",
      "name": "python3"
    },
    "language_info": {
      "codemirror_mode": {
        "name": "ipython",
        "version": 3
      },
      "file_extension": ".py",
      "mimetype": "text/x-python",
      "name": "python",
      "nbconvert_exporter": "python",
      "pygments_lexer": "ipython3",
      "version": "3.8.3"
    }
  },
  "cells": [
    {
      "cell_type": "markdown",
      "metadata": {
        "id": "XSfnuObtYYMH"
      },
      "source": [
        "# CSE527 Homework 4\n",
        "**Due date: 23:59 on April 24, 2021 (Sat.)**\n",
        "\n",
        "In this semester, we will use Google Colab for the assignments, which allows us to utilize resources that some of us might not have in their local machines such as GPUs. You will need to use your Stony Brook (*.stonybrook.edu) account for coding and Google Drive to save your results.\n",
        "\n",
        "## Google Colab Tutorial\n",
        "---\n",
        "Go to https://colab.research.google.com/notebooks/, you will see a tutorial named \"Welcome to Colaboratory\" file, where you can learn the basics of using google colab.\n",
        "\n",
        "Settings used for assignments: ***Edit -> Notebook Settings -> Runtime Type (Python 3)***.\n",
        "\n",
        "\n",
        "## Description\n",
        "---\n",
        "This project is an introduction to deep learning tools for computer vision. You will design and train deep convolutional networks for scene recognition using [PyTorch](http://pytorch.org). You can visualize the\n",
        "structure of the network with [mNeuron] (http://vision03.csail.mit.edu/cnn_art/index.html)\n",
        "\n",
        "In Problem 1 of the project you will train a deep convolutional network from scratch to recognize scenes. The starter codes gives you methods to load data and display them. You will need to define a simple network architecture and add jittering, normalization, and regularization to increase recognition accuracy to 50, 60, or perhaps 70%. Unfortunately, we only have 2,400 training examples so it doesn't seem possible to train a network from scratch which outperforms hand-crafted features\n",
        "\n",
        "For Problem 2 you will instead fine-tune a pre-trained deep network to achieve about 85% accuracy on the task. We will use the pretrained AlexNet network which was not trained to recognize scenes at all. \n",
        "\n",
        "These two approaches represent the most common approaches to recognition problems in computer vision today -- train a deep network from scratch if you have enough data (it's not always obvious whether or not you do), and if you cannot then instead fine-tune a pre-trained network.\n",
        "\n",
        "There are 2 problems in this homework with a total of 120 points including 20 bonus points. Be sure to read **Submission Guidelines** below. They are important. For the problems requiring text descriptions, you might want to add a markdown block for that.\n",
        "\n",
        "## Dataset\n",
        "---\n",
        "Save the [dataset(click me)](https://drive.google.com/open?id=1NWC3TMsXSWN2TeoYMCjhf2N1b-WRDh-M) into your working folder in your Google Drive for this homework. <br>\n",
        "Under your root folder, there should be a folder named \"data\" (i.e. XXX/Surname_Givenname_SBUID/data) containing the images.\n",
        "**Do not upload** the data subfolder before submitting on blackboard due to size limit. There should be only one .ipynb file under your root folder Surname_Givenname_SBUID.\n",
        "\n",
        "## Some Tutorials (PyTorch)\n",
        "---\n",
        "- You will be using PyTorch for deep learning toolbox (follow the [link](http://pytorch.org) for installation).\n",
        "- For PyTorch beginners, please read this [tutorial](http://pytorch.org/tutorials/beginner/deep_learning_60min_blitz.html) before doing your homework.\n",
        "- Feel free to study more tutorials at http://pytorch.org/tutorials/.\n",
        "- Find cool visualization here at http://playground.tensorflow.org.\n",
        "\n",
        "\n"
      ]
    },
    {
      "cell_type": "code",
      "metadata": {
        "id": "0UA6WFgcYYMI"
      },
      "source": [
        "# import packages here\n",
        "import cv2\n",
        "import numpy as np\n",
        "import matplotlib.pyplot as plt\n",
        "import glob\n",
        "import random \n",
        "import time\n",
        "\n",
        "import torch\n",
        "import torchvision\n",
        "import torchvision.transforms as transforms\n",
        "\n",
        "import torch.optim as optim\n",
        "from torch.optim import lr_scheduler\n",
        "import os\n",
        "import copy\n",
        "\n",
        "from torch.autograd import Variable\n",
        "import torch.nn as nn\n",
        "import torch.nn.functional as F"
      ],
      "execution_count": null,
      "outputs": []
    },
    {
      "cell_type": "code",
      "metadata": {
        "colab": {
          "base_uri": "https://localhost:8080/"
        },
        "id": "L7T72O-1ks-a",
        "outputId": "b5651991-bd71-473d-be3f-421110ece11e"
      },
      "source": [
        "# Mount your google drive where you've saved your assignment folder\n",
        "from google.colab import drive\n",
        "drive.mount('/content/gdrive')"
      ],
      "execution_count": null,
      "outputs": [
        {
          "output_type": "stream",
          "text": [
            "Mounted at /content/gdrive\n"
          ],
          "name": "stdout"
        }
      ]
    },
    {
      "cell_type": "code",
      "metadata": {
        "colab": {
          "base_uri": "https://localhost:8080/"
        },
        "id": "xIT3WIuykrg0",
        "outputId": "0eec874d-86b7-4a3a-c428-a72eda972ee4"
      },
      "source": [
        "# Set your working directory (in your google drive)\n",
        "#   change it to your specific homework directory.\n",
        "%cd '/content/gdrive/MyDrive/Punuru_RishitaReddy_113274815_hw4'"
      ],
      "execution_count": null,
      "outputs": [
        {
          "output_type": "stream",
          "text": [
            "/content/gdrive/MyDrive/Punuru_RishitaReddy_113274815_hw4\n"
          ],
          "name": "stdout"
        }
      ]
    },
    {
      "cell_type": "markdown",
      "metadata": {
        "id": "HnkJ-LmJyBod"
      },
      "source": [
        "## Problem 0: Loading and Preprocessing data\n",
        "---\n",
        "(0 point) In this part, you are provided with a function that loads data into minibatches for training and testing in PyTorch. However, some preprocessing parts are missing. Your will need to implement them when doing Problem 1."
      ]
    },
    {
      "cell_type": "code",
      "metadata": {
        "colab": {
          "base_uri": "https://localhost:8080/"
        },
        "id": "0NxnBcUqk_9B",
        "outputId": "135a6f39-d254-4dab-e27c-fb25c726ca83"
      },
      "source": [
        "#--------------------------------------------------\n",
        "#    Load Training Data and Testing Data\n",
        "#--------------------------------------------------\n",
        "\n",
        "def set_random_seed(seed):\n",
        "     torch.manual_seed(seed)\n",
        "     torch.cuda.manual_seed_all(seed)\n",
        "     np.random.seed(seed)\n",
        "     random.seed(seed)\n",
        "     torch.backends.cudnn.deterministic = True\n",
        "set_random_seed(0)\n",
        "\n",
        "class_names = [name[13:] for name in glob.glob('./data/train/*')]\n",
        "class_names = dict(zip(range(len(class_names)), class_names))\n",
        "print(\"class_names: %s \" % class_names)\n",
        "\n",
        "def load_dataset(path, img_size, num_per_class=-1, batch_size=16, shuffle=False,\n",
        "           augment=False, is_color=False, zero_centered=False): \n",
        "    set_random_seed(0)   \n",
        "    data = []\n",
        "    labels = []    \n",
        "    channel_num = 3 if is_color else 1\n",
        "        \n",
        "    # read images and resizing\n",
        "    for id, class_name in class_names.items():\n",
        "        print(\"Loading images from class: %s\" % id)\n",
        "        img_path_class = glob.glob(path + class_name + '/*.jpg')\n",
        "        if num_per_class > 0:\n",
        "            img_path_class = img_path_class[:num_per_class]\n",
        "        labels.extend([id]*len(img_path_class))\n",
        "        for filename in img_path_class:\n",
        "            if is_color:\n",
        "                img = cv2.imread(filename)\n",
        "            else:\n",
        "                img = cv2.imread(filename, 0)\n",
        "            \n",
        "            # resize the image\n",
        "            img = cv2.resize(img, img_size, cv2.INTER_LINEAR)\n",
        "            \n",
        "            if is_color:\n",
        "                img = np.transpose(img, [2, 0, 1])\n",
        "            \n",
        "            # norm pixel values to [-1, 1]\n",
        "            data.append(img.astype(np.float)/255*2-1)\n",
        "            \n",
        "    ##########--WRITE YOUR CODE HERE--##########\n",
        "    # Data Augmentation \n",
        "    if augment: \n",
        "        pass\n",
        "        data += [np.flip(img,1) for img in data]\n",
        "        labels += labels\n",
        "\n",
        "    ##########-------END OF CODE-------##########    \n",
        "    \n",
        "    ##########--WRITE YOUR CODE HERE--##########\n",
        "    # Data Normalization\n",
        "    if zero_centered:\n",
        "        pass\n",
        "        data -= np.mean(data, 0)\n",
        "          \n",
        "    ##########-------END OF CODE-------##########\n",
        "         \n",
        "    # randomly permute (this step is important for training)\n",
        "    if shuffle:\n",
        "        bundle = list(zip(data, labels))\n",
        "        random.shuffle(bundle)\n",
        "        data, labels = zip(*bundle)\n",
        "    \n",
        "    # divide data into minibatches of TorchTensors\n",
        "    if batch_size > 1:\n",
        "        batch_data = []\n",
        "        batch_labels = []\n",
        "         \n",
        "        for i in range(int(len(data) / batch_size)):\n",
        "            minibatch_d = data[i*batch_size: (i+1)*batch_size]\n",
        "            minibatch_d = np.reshape(minibatch_d, (batch_size, channel_num, img_size[0], img_size[1]))\n",
        "            batch_data.append(torch.from_numpy(minibatch_d))\n",
        "\n",
        "            minibatch_l = labels[i*batch_size: (i+1)*batch_size]\n",
        "            batch_labels.append(torch.LongTensor(minibatch_l))\n",
        "        data, labels = batch_data, batch_labels \n",
        "    \n",
        "    return zip(batch_data, batch_labels)"
      ],
      "execution_count": null,
      "outputs": [
        {
          "output_type": "stream",
          "text": [
            "class_names: {0: 'Flower', 1: 'Coast', 2: 'Forest', 3: 'Bedroom', 4: 'Street', 5: 'LivingRoom', 6: 'Mountain', 7: 'Kitchen', 8: 'Store', 9: 'InsideCity', 10: 'Industrial', 11: 'Office', 12: 'OpenCountry', 13: 'Highway', 14: 'Suburb', 15: 'TallBuilding'} \n"
          ],
          "name": "stdout"
        }
      ]
    },
    {
      "cell_type": "code",
      "metadata": {
        "colab": {
          "base_uri": "https://localhost:8080/"
        },
        "id": "wHI2VYbDloje",
        "outputId": "a81ef1a2-71f4-46e0-ae7d-b2db376e4723"
      },
      "source": [
        "# load data into size (64, 64)\n",
        "img_size = (64, 64)\n",
        "batch_size = 64 # training sample number per batch\n",
        "\n",
        "# load training dataset\n",
        "trainloader_small = list(load_dataset('./data/train/', img_size, batch_size=batch_size, shuffle=True))\n",
        "train_num = len(trainloader_small)\n",
        "print(\"Finish loading %d minibatches (batch_size=%d) of training samples.\" % (train_num, batch_size))\n",
        "\n",
        "# load testing dataset\n",
        "testloader_small = list(load_dataset('./data/test/', img_size, num_per_class=50, batch_size=batch_size))\n",
        "test_num = len(testloader_small)\n",
        "print(\"Finish loading %d minibatches (batch_size=%d) of testing samples.\" % (test_num, batch_size))"
      ],
      "execution_count": null,
      "outputs": [
        {
          "output_type": "stream",
          "text": [
            "Loading images from class: 0\n",
            "Loading images from class: 1\n",
            "Loading images from class: 2\n",
            "Loading images from class: 3\n",
            "Loading images from class: 4\n",
            "Loading images from class: 5\n",
            "Loading images from class: 6\n",
            "Loading images from class: 7\n",
            "Loading images from class: 8\n",
            "Loading images from class: 9\n",
            "Loading images from class: 10\n",
            "Loading images from class: 11\n",
            "Loading images from class: 12\n",
            "Loading images from class: 13\n",
            "Loading images from class: 14\n",
            "Loading images from class: 15\n",
            "Finish loading 33 minibatches (batch_size=64) of training samples.\n",
            "Loading images from class: 0\n",
            "Loading images from class: 1\n",
            "Loading images from class: 2\n",
            "Loading images from class: 3\n",
            "Loading images from class: 4\n",
            "Loading images from class: 5\n",
            "Loading images from class: 6\n",
            "Loading images from class: 7\n",
            "Loading images from class: 8\n",
            "Loading images from class: 9\n",
            "Loading images from class: 10\n",
            "Loading images from class: 11\n",
            "Loading images from class: 12\n",
            "Loading images from class: 13\n",
            "Loading images from class: 14\n",
            "Loading images from class: 15\n",
            "Finish loading 6 minibatches (batch_size=64) of testing samples.\n"
          ],
          "name": "stdout"
        }
      ]
    },
    {
      "cell_type": "code",
      "metadata": {
        "colab": {
          "base_uri": "https://localhost:8080/",
          "height": 286
        },
        "id": "krCXjDOzlq0f",
        "outputId": "c942100f-d71f-4034-cb24-93ae3ce69a65"
      },
      "source": [
        "# show some images\n",
        "def imshow(img):\n",
        "    img = img / 2 + 0.5     # unnormalize\n",
        "    npimg = img.numpy()\n",
        "    if len(npimg.shape) > 2:\n",
        "        npimg = np.transpose(img, [1, 2, 0])\n",
        "    plt.figure\n",
        "    plt.imshow(npimg, 'gray')\n",
        "    plt.show()\n",
        "img, label = trainloader_small[0][0][11][0], trainloader_small[0][1][11]\n",
        "label = int(np.array(label))\n",
        "print(class_names[label])\n",
        "imshow(img)"
      ],
      "execution_count": null,
      "outputs": [
        {
          "output_type": "stream",
          "text": [
            "Flower\n"
          ],
          "name": "stdout"
        },
        {
          "output_type": "display_data",
          "data": {
            "image/png": "[encoded data removed]",
            "text/plain": [
              "<Figure size 432x288 with 1 Axes>"
            ]
          },
          "metadata": {
            "tags": [],
            "needs_background": "light"
          }
        }
      ]
    },
    {
      "cell_type": "markdown",
      "metadata": {
        "id": "JGA-K6QzYYMR"
      },
      "source": [
        "## Problem 1: Training a Network From Scratch\n",
        "Gone are the days of hand designed features. Now we have end-to-end learning in which a highly non-linear representation is learned for our data to maximize our objective function (in this case, 16-way classification accuracy). Let's start!"
      ]
    },
    {
      "cell_type": "markdown",
      "metadata": {
        "id": "s6OPghPL1ZGt"
      },
      "source": [
        "First, let's define a simpe network architecture."
      ]
    },
    {
      "cell_type": "code",
      "metadata": {
        "id": "LI9qG3x-zbe-"
      },
      "source": [
        "#--------------------------------------------------\n",
        "#       Define Network Architecture\n",
        "#--------------------------------------------------\n",
        "class TNet(nn.Module):\n",
        "    def __init__(self):\n",
        "      super(TNet,self).__init__()  \n",
        "           \n",
        "      self.features = torch.nn.Sequential(\n",
        "        nn.Conv2d(1, 16, 3),\n",
        "        nn.ReLU(),\n",
        "        nn.MaxPool2d(4, stride=4), \n",
        "      )\n",
        "      \n",
        "      self.classifier = nn.Sequential(\n",
        "         nn.Linear(3600, 16), \n",
        "      )\n",
        "      \n",
        "    def forward(self, x):\n",
        "      x = self.features(x)  \n",
        "      x = torch.flatten(x, 1)\n",
        "      x = self.classifier(x)\n",
        "      return x  \n",
        "  "
      ],
      "execution_count": null,
      "outputs": []
    },
    {
      "cell_type": "markdown",
      "metadata": {
        "id": "-PBerwk-1leX"
      },
      "source": [
        "Then, let's define model training and evaluation functions."
      ]
    },
    {
      "cell_type": "code",
      "metadata": {
        "id": "sNJTDG8xoJwH"
      },
      "source": [
        "#--------------------------------------------------\n",
        "#       Model Training Function\n",
        "#--------------------------------------------------\n",
        "import torch.optim as optim\n",
        "import time\n",
        "  \n",
        "def trainModel(net, trainloader, train_option, testloader=None):  \n",
        "  loss_func = nn.CrossEntropyLoss()\n",
        "  lr = train_option['lr']\n",
        "  epoch = train_option['epoch']\n",
        "  device = train_option['device'] if 'device' in train_option.keys() else 'cpu'\n",
        "  log_iter = train_option['log_iter'] if 'log_iter' in train_option.keys() else 20\n",
        "  eval_epoch = 1\n",
        "  \n",
        "  if 'optimizer' in train_option.keys():\n",
        "    optimizer = train_option['optimizer']\n",
        "  else:\n",
        "    optimizer = optim.Adam(net.parameters(), lr=lr)\n",
        "\n",
        "  start_time = time.time()\n",
        "  if device == 'gpu':\n",
        "    net = net.cuda()\n",
        "    \n",
        "  iters = 0\n",
        "  running_loss = 0.0\n",
        "  for ep in range(epoch):\n",
        "    net.train()        \n",
        "    for iter, (x, y) in enumerate(trainloader):\n",
        "      iters += 1\n",
        "      batch_x = Variable(x).float()\n",
        "      batch_y = Variable(y).long()\n",
        "      if device == 'gpu':\n",
        "        batch_x = batch_x.cuda()\n",
        "        batch_y = batch_y.cuda()\n",
        "\n",
        "      outputs = net(batch_x)\n",
        "      loss = loss_func(outputs, batch_y)\n",
        "      optimizer.zero_grad()\n",
        "      loss.backward()\n",
        "      optimizer.step()\n",
        "      running_loss += loss.item()\n",
        "      \n",
        "      time_lapse = time.strftime('%H:%M:%S', time.gmtime(time.time() - start_time))\n",
        "      if iter % log_iter == 0:\n",
        "        print('Epoch:{:2d} | Iter:{:5d} | Time: {} | Train Loss: {:.4f} | Average Loss: {:.4f} '.format(ep+1, iter, time_lapse, loss.item(), running_loss/iters))\n",
        "   \n",
        "    if testloader is not None and ep % eval_epoch == 0:\n",
        "      evalModel(net, testloader)\n"
      ],
      "execution_count": null,
      "outputs": []
    },
    {
      "cell_type": "code",
      "metadata": {
        "id": "m5sadf8qoOW6"
      },
      "source": [
        "#--------------------------------------------------\n",
        "#       Model Evaluating Function\n",
        "#--------------------------------------------------\n",
        "import time\n",
        "  \n",
        "def evalModel(net, testloader): \n",
        "  acc = 0.0\n",
        "  count = 0\n",
        "  start_time = time.time()\n",
        "  device = 'gpu' if next(net.parameters()).is_cuda else 'cpu'\n",
        "  net.eval()\n",
        "  \n",
        "  for iter, (x, y) in enumerate(testloader):\n",
        "        count += x.shape[0]\n",
        "        batch_x = Variable(x).float()\n",
        "        batch_y = Variable(y).long()\n",
        "        if device == 'gpu':\n",
        "          batch_x = batch_x.cuda()\n",
        "          batch_y = batch_y.cuda()\n",
        "        outputs = net(batch_x)\n",
        "        acc += torch.sum(outputs.max(1)[1]==batch_y)\n",
        "        \n",
        "  time_lapse = time.strftime('%H:%M:%S', time.gmtime(time.time() - start_time))        \n",
        "  print('Accuracy: {:5f} | Time: {}'.format(acc/count,time_lapse))\n",
        "  "
      ],
      "execution_count": null,
      "outputs": []
    },
    {
      "cell_type": "markdown",
      "metadata": {
        "id": "Mrm2SErt7wzZ"
      },
      "source": [
        "Finally, let's start training and evaluation."
      ]
    },
    {
      "cell_type": "code",
      "metadata": {
        "colab": {
          "base_uri": "https://localhost:8080/"
        },
        "id": "KDwrBoHVukOK",
        "outputId": "a034900e-7f9f-4b99-83c9-c0a36606d192"
      },
      "source": [
        "#--------------------------------------------------\n",
        "#       Start Training & Evaluation\n",
        "#--------------------------------------------------\n",
        "net = TNet() \n",
        "train_option = {}\n",
        "train_option['lr'] = 0.002\n",
        "train_option['epoch'] = 20\n",
        "train_option['device'] = 'gpu'\n",
        "trainModel(net, trainloader_small, train_option, testloader_small)"
      ],
      "execution_count": null,
      "outputs": [
        {
          "output_type": "stream",
          "text": [
            "Epoch: 1 | Iter:    0 | Time: 00:00:10 | Train Loss: 2.7883 | Average Loss: 2.7883 \n",
            "Epoch: 1 | Iter:   20 | Time: 00:00:10 | Train Loss: 2.5369 | Average Loss: 2.5543 \n",
            "Accuracy: 0.333333 | Time: 00:00:00\n",
            "Epoch: 2 | Iter:    0 | Time: 00:00:11 | Train Loss: 1.6090 | Average Loss: 2.3957 \n",
            "Epoch: 2 | Iter:   20 | Time: 00:00:11 | Train Loss: 2.1329 | Average Loss: 2.1838 \n",
            "Accuracy: 0.359375 | Time: 00:00:00\n",
            "Epoch: 3 | Iter:    0 | Time: 00:00:11 | Train Loss: 1.1732 | Average Loss: 2.0869 \n",
            "Epoch: 3 | Iter:   20 | Time: 00:00:11 | Train Loss: 1.6968 | Average Loss: 1.9488 \n",
            "Accuracy: 0.369792 | Time: 00:00:00\n",
            "Epoch: 4 | Iter:    0 | Time: 00:00:11 | Train Loss: 0.9382 | Average Loss: 1.8756 \n",
            "Epoch: 4 | Iter:   20 | Time: 00:00:11 | Train Loss: 1.3419 | Average Loss: 1.7656 \n",
            "Accuracy: 0.414062 | Time: 00:00:00\n",
            "Epoch: 5 | Iter:    0 | Time: 00:00:11 | Train Loss: 0.7753 | Average Loss: 1.7044 \n",
            "Epoch: 5 | Iter:   20 | Time: 00:00:11 | Train Loss: 1.0426 | Average Loss: 1.6116 \n",
            "Accuracy: 0.445312 | Time: 00:00:00\n",
            "Epoch: 6 | Iter:    0 | Time: 00:00:11 | Train Loss: 0.6372 | Average Loss: 1.5585 \n",
            "Epoch: 6 | Iter:   20 | Time: 00:00:11 | Train Loss: 0.7984 | Average Loss: 1.4790 \n",
            "Accuracy: 0.445312 | Time: 00:00:00\n",
            "Epoch: 7 | Iter:    0 | Time: 00:00:11 | Train Loss: 0.5296 | Average Loss: 1.4327 \n",
            "Epoch: 7 | Iter:   20 | Time: 00:00:11 | Train Loss: 0.6247 | Average Loss: 1.3641 \n",
            "Accuracy: 0.453125 | Time: 00:00:00\n",
            "Epoch: 8 | Iter:    0 | Time: 00:00:11 | Train Loss: 0.4532 | Average Loss: 1.3239 \n",
            "Epoch: 8 | Iter:   20 | Time: 00:00:11 | Train Loss: 0.5120 | Average Loss: 1.2647 \n",
            "Accuracy: 0.463542 | Time: 00:00:00\n",
            "Epoch: 9 | Iter:    0 | Time: 00:00:11 | Train Loss: 0.4032 | Average Loss: 1.2303 \n",
            "Epoch: 9 | Iter:   20 | Time: 00:00:11 | Train Loss: 0.4527 | Average Loss: 1.1794 \n",
            "Accuracy: 0.445312 | Time: 00:00:00\n",
            "Epoch:10 | Iter:    0 | Time: 00:00:11 | Train Loss: 0.3911 | Average Loss: 1.1502 \n",
            "Epoch:10 | Iter:   20 | Time: 00:00:12 | Train Loss: 0.3805 | Average Loss: 1.1067 \n",
            "Accuracy: 0.419271 | Time: 00:00:00\n",
            "Epoch:11 | Iter:    0 | Time: 00:00:12 | Train Loss: 0.4380 | Average Loss: 1.0821 \n",
            "Epoch:11 | Iter:   20 | Time: 00:00:12 | Train Loss: 0.2809 | Average Loss: 1.0455 \n",
            "Accuracy: 0.437500 | Time: 00:00:00\n",
            "Epoch:12 | Iter:    0 | Time: 00:00:12 | Train Loss: 0.4379 | Average Loss: 1.0251 \n",
            "Epoch:12 | Iter:   20 | Time: 00:00:12 | Train Loss: 0.2644 | Average Loss: 0.9946 \n",
            "Accuracy: 0.463542 | Time: 00:00:00\n",
            "Epoch:13 | Iter:    0 | Time: 00:00:12 | Train Loss: 0.5444 | Average Loss: 0.9760 \n",
            "Epoch:13 | Iter:   20 | Time: 00:00:12 | Train Loss: 0.2879 | Average Loss: 0.9497 \n",
            "Accuracy: 0.471354 | Time: 00:00:00\n",
            "Epoch:14 | Iter:    0 | Time: 00:00:12 | Train Loss: 0.3633 | Average Loss: 0.9327 \n",
            "Epoch:14 | Iter:   20 | Time: 00:00:12 | Train Loss: 0.2496 | Average Loss: 0.9089 \n",
            "Accuracy: 0.463542 | Time: 00:00:00\n",
            "Epoch:15 | Iter:    0 | Time: 00:00:12 | Train Loss: 0.2624 | Average Loss: 0.8930 \n",
            "Epoch:15 | Iter:   20 | Time: 00:00:12 | Train Loss: 0.1333 | Average Loss: 0.8670 \n",
            "Accuracy: 0.466146 | Time: 00:00:00\n",
            "Epoch:16 | Iter:    0 | Time: 00:00:12 | Train Loss: 0.2036 | Average Loss: 0.8508 \n",
            "Epoch:16 | Iter:   20 | Time: 00:00:12 | Train Loss: 0.1387 | Average Loss: 0.8259 \n",
            "Accuracy: 0.515625 | Time: 00:00:00\n",
            "Epoch:17 | Iter:    0 | Time: 00:00:12 | Train Loss: 0.1400 | Average Loss: 0.8102 \n",
            "Epoch:17 | Iter:   20 | Time: 00:00:12 | Train Loss: 0.1344 | Average Loss: 0.7867 \n",
            "Accuracy: 0.513021 | Time: 00:00:00\n",
            "Epoch:18 | Iter:    0 | Time: 00:00:12 | Train Loss: 0.1216 | Average Loss: 0.7719 \n",
            "Epoch:18 | Iter:   20 | Time: 00:00:12 | Train Loss: 0.1079 | Average Loss: 0.7497 \n",
            "Accuracy: 0.510417 | Time: 00:00:00\n",
            "Epoch:19 | Iter:    0 | Time: 00:00:12 | Train Loss: 0.0986 | Average Loss: 0.7361 \n",
            "Epoch:19 | Iter:   20 | Time: 00:00:13 | Train Loss: 0.0812 | Average Loss: 0.7155 \n",
            "Accuracy: 0.505208 | Time: 00:00:00\n",
            "Epoch:20 | Iter:    0 | Time: 00:00:13 | Train Loss: 0.0838 | Average Loss: 0.7028 \n",
            "Epoch:20 | Iter:   20 | Time: 00:00:13 | Train Loss: 0.0701 | Average Loss: 0.6838 \n",
            "Accuracy: 0.497396 | Time: 00:00:00\n"
          ],
          "name": "stdout"
        }
      ]
    },
    {
      "cell_type": "markdown",
      "metadata": {
        "id": "HaRIpcUeAYSl"
      },
      "source": [
        "Great! You would get around 0.45-0.50 accuracy by this very simple network. Now it's your job to beat this result.\n",
        "\n",
        "### Problem 1.1\n",
        "(35 points) Try to boost the accuracy by doing the following steps:\n",
        "\n",
        "**Data Augmentation**: We don't have enough training data, let's augment the training data.\n",
        "If you **left-right flip (mirror) an image** of a scene, it never changes categories. A kitchen doesn't become a forest when mirrored. This isn't true in all domains — a \"d\" becomes a \"b\" when mirrored, so you can't \"jitter\" digit recognition training data in the same way. But we can synthetically increase our amount of training data by left-right mirroring training images during the learning process.\n",
        "\n",
        "After you implement mirroring, you should notice that your training error doesn't drop as quickly. That's actually a good thing, because it means the network isn't overfitting to the 2,400 original training images as much (because it sees 4,800 training images now, although they're not as good as 4,800 truly independent samples). Because the training and test errors fall more slowly, you may need more training epochs or you may try modifying the learning rate. You are **required** to implement mirroring as data augmentation for this part.\n",
        "\n",
        "You can try more elaborate forms of jittering -- zooming in a random amount, rotating a random amount, taking a random crop, etc. These are not required, you might want to try these in the bonus part.\n",
        "\n",
        "**Data Normalization**: The images aren't **zero-centered**. One simple trick which can help a lot is to subtract the mean from every image. It would arguably be more proper to only compute the mean from the training images (since the test/validation images should be strictly held out) but it won't make much of a difference. This part is **required**.\n",
        "\n",
        "**Network Regularization**: Add **dropout layer**. If you train your network (especially for more than the default 30 epochs) you'll see that the training error can decrease to zero while the val top1 error hovers at 40% to 50%. The network has learned weights which can perfectly recognize the training data, but those weights don't generalize to held out test data. The best regularization would be more training data but we don't have that. Instead we will use dropout regularization.\n",
        "\n",
        "What does dropout regularization do? It randomly turns off network connections at training time to fight overfitting. This prevents a unit in one layer from relying too strongly on a single unit in the previous layer. Dropout regularization can be interpreted as simultaneously training many \"thinned\" versions of your network. At test, all connections are restored which is analogous to taking an average prediction over all of the \"thinned\" networks. You can see a more complete discussion of dropout regularization in this [paper](https://www.cs.toronto.edu/~hinton/absps/JMLRdropout.pdf).\n",
        "\n",
        "The dropout layer has only one free parameter — the dropout rate — the proportion of connections that are randomly deleted. The default of 0.5 should be fine. Insert a dropout layer between your convolutional layers. In particular, insert it directly before your last convolutional layer (and try others if that helps). Your train accuracy should decrease much more slowly. That's to be expected — you're making life much harder for the training algorithm by cutting out connections randomly. In this part, you are **required** to add dropout layer to your network.\n",
        "\n",
        "**Please give detailed descriptions of your network layout in the following format:**<br>\n",
        "Data augmentation: [descriptions]<br>\n",
        "Data normalization: [descriptions]<br>\n",
        "Layer 1: [layer_type]: [Parameters]<br>\n",
        "Layer 2: [layer_type]: [Parameters]<br>\n",
        "...<br>\n",
        "**Then report the final accuracy on test set.**\n",
        "\n",
        "The minimum accuracy required for this section is **0.55**."
      ]
    },
    {
      "cell_type": "code",
      "metadata": {
        "id": "3S9dgoEWFCcI",
        "colab": {
          "base_uri": "https://localhost:8080/"
        },
        "outputId": "77c6a452-5d2c-4736-ec15-91ca3ea40187"
      },
      "source": [
        "# load data into size (64, 64)\n",
        "img_size = (64, 64)\n",
        "batch_size = 64 # training sample number per batch\n",
        "\n",
        "# load training dataset\n",
        "trainloader_small = list(load_dataset('./data/train/', img_size, batch_size=batch_size, shuffle=True, augment=True, zero_centered=True))\n",
        "train_num = len(trainloader_small)\n",
        "print(\"Finish loading %d minibatches (batch_size=%d) of training samples.\" % (train_num, batch_size))\n",
        "\n",
        "# load testing dataset\n",
        "testloader_small = list(load_dataset('./data/test/', img_size, num_per_class=50, batch_size=batch_size, zero_centered=True))\n",
        "test_num = len(testloader_small)\n",
        "print(\"Finish loading %d minibatches (batch_size=%d) of testing samples.\" % (test_num, batch_size))"
      ],
      "execution_count": null,
      "outputs": [
        {
          "output_type": "stream",
          "text": [
            "Loading images from class: 0\n",
            "Loading images from class: 1\n",
            "Loading images from class: 2\n",
            "Loading images from class: 3\n",
            "Loading images from class: 4\n",
            "Loading images from class: 5\n",
            "Loading images from class: 6\n",
            "Loading images from class: 7\n",
            "Loading images from class: 8\n",
            "Loading images from class: 9\n",
            "Loading images from class: 10\n",
            "Loading images from class: 11\n",
            "Loading images from class: 12\n",
            "Loading images from class: 13\n",
            "Loading images from class: 14\n",
            "Loading images from class: 15\n",
            "Finish loading 67 minibatches (batch_size=64) of training samples.\n",
            "Loading images from class: 0\n",
            "Loading images from class: 1\n",
            "Loading images from class: 2\n",
            "Loading images from class: 3\n",
            "Loading images from class: 4\n",
            "Loading images from class: 5\n",
            "Loading images from class: 6\n",
            "Loading images from class: 7\n",
            "Loading images from class: 8\n",
            "Loading images from class: 9\n",
            "Loading images from class: 10\n",
            "Loading images from class: 11\n",
            "Loading images from class: 12\n",
            "Loading images from class: 13\n",
            "Loading images from class: 14\n",
            "Loading images from class: 15\n",
            "Finish loading 6 minibatches (batch_size=64) of testing samples.\n"
          ],
          "name": "stdout"
        }
      ]
    },
    {
      "cell_type": "code",
      "metadata": {
        "id": "clXaGdwaoIL7"
      },
      "source": [
        "#--------------------------------------------------\n",
        "#       Define Network Architecture\n",
        "#--------------------------------------------------\n",
        "\n",
        "class MyNet(nn.Module):\n",
        "    def __init__(self):\n",
        "      super(MyNet,self).__init__()  \n",
        "           \n",
        "      self.features = torch.nn.Sequential(\n",
        "        nn.Conv2d(1,16, 3),\n",
        "        nn.ReLU(),\n",
        "        nn.MaxPool2d(4, stride=2),\n",
        "        nn.Conv2d(16,64,3),\n",
        "        nn.ReLU(),\n",
        "        nn.MaxPool2d(4, stride=2),\n",
        "        nn.Dropout2d(0.5)\n",
        "      )\n",
        "\n",
        "      self.classifier = nn.Sequential(\n",
        "         nn.Linear(64 * 13 * 13, 212), \n",
        "         nn.Dropout2d(0.25),\n",
        "         nn.Linear(212,16)\n",
        "      )\n",
        "      \n",
        "    def forward(self, x):\n",
        "      x = self.features(x)\n",
        "      x = torch.flatten(x, 1)\n",
        "      x = self.classifier(x)\n",
        "      return x  "
      ],
      "execution_count": null,
      "outputs": []
    },
    {
      "cell_type": "code",
      "metadata": {
        "id": "-Tj73gVp8gN7",
        "colab": {
          "base_uri": "https://localhost:8080/"
        },
        "outputId": "1e5b9809-5f35-414f-e0d3-ecd6084b073f"
      },
      "source": [
        "#--------------------------------------------------\n",
        "#       Start Training & Evaluation\n",
        "#--------------------------------------------------\n",
        "\n",
        "net = MyNet() \n",
        "train_option = {}\n",
        "train_option['lr'] = 0.001\n",
        "train_option['epoch'] = 20\n",
        "train_option['loss'] = nn.CrossEntropyLoss\n",
        "\n",
        "device = torch.device(\"cuda:0\" if torch.cuda.is_available() else \"cpu\")\n",
        "net = net.to(device)\n",
        "\n",
        "trainModel(net, trainloader_small, train_option, testloader_small)\n",
        "\n",
        "\n"
      ],
      "execution_count": null,
      "outputs": [
        {
          "output_type": "stream",
          "text": [
            "Epoch: 1 | Iter:    0 | Time: 00:00:00 | Train Loss: 2.7548 | Average Loss: 2.7548 \n",
            "Epoch: 1 | Iter:   20 | Time: 00:00:03 | Train Loss: 2.5605 | Average Loss: 2.8164 \n",
            "Epoch: 1 | Iter:   40 | Time: 00:00:06 | Train Loss: 2.5662 | Average Loss: 2.6501 \n",
            "Epoch: 1 | Iter:   60 | Time: 00:00:08 | Train Loss: 1.9202 | Average Loss: 2.5306 \n",
            "Accuracy: 0.348958 | Time: 00:00:00\n",
            "Epoch: 2 | Iter:    0 | Time: 00:00:10 | Train Loss: 2.1342 | Average Loss: 2.4890 \n",
            "Epoch: 2 | Iter:   20 | Time: 00:00:13 | Train Loss: 2.0820 | Average Loss: 2.4015 \n",
            "Epoch: 2 | Iter:   40 | Time: 00:00:16 | Train Loss: 2.0106 | Average Loss: 2.3262 \n",
            "Epoch: 2 | Iter:   60 | Time: 00:00:19 | Train Loss: 1.6777 | Average Loss: 2.2574 \n",
            "Accuracy: 0.434896 | Time: 00:00:00\n",
            "Epoch: 3 | Iter:    0 | Time: 00:00:20 | Train Loss: 1.7844 | Average Loss: 2.2352 \n",
            "Epoch: 3 | Iter:   20 | Time: 00:00:23 | Train Loss: 1.6935 | Average Loss: 2.1773 \n",
            "Epoch: 3 | Iter:   40 | Time: 00:00:26 | Train Loss: 1.7271 | Average Loss: 2.1211 \n",
            "Epoch: 3 | Iter:   60 | Time: 00:00:29 | Train Loss: 1.4375 | Average Loss: 2.0710 \n",
            "Accuracy: 0.513021 | Time: 00:00:00\n",
            "Epoch: 4 | Iter:    0 | Time: 00:00:30 | Train Loss: 1.5137 | Average Loss: 2.0541 \n",
            "Epoch: 4 | Iter:   20 | Time: 00:00:33 | Train Loss: 1.3797 | Average Loss: 2.0058 \n",
            "Epoch: 4 | Iter:   40 | Time: 00:00:36 | Train Loss: 1.5002 | Average Loss: 1.9651 \n",
            "Epoch: 4 | Iter:   60 | Time: 00:00:39 | Train Loss: 1.4368 | Average Loss: 1.9227 \n",
            "Accuracy: 0.518229 | Time: 00:00:00\n",
            "Epoch: 5 | Iter:    0 | Time: 00:00:40 | Train Loss: 1.3223 | Average Loss: 1.9088 \n",
            "Epoch: 5 | Iter:   20 | Time: 00:00:43 | Train Loss: 1.4004 | Average Loss: 1.8703 \n",
            "Epoch: 5 | Iter:   40 | Time: 00:00:46 | Train Loss: 1.1482 | Average Loss: 1.8348 \n",
            "Epoch: 5 | Iter:   60 | Time: 00:00:48 | Train Loss: 1.1227 | Average Loss: 1.7989 \n",
            "Accuracy: 0.557292 | Time: 00:00:00\n",
            "Epoch: 6 | Iter:    0 | Time: 00:00:50 | Train Loss: 1.2580 | Average Loss: 1.7886 \n",
            "Epoch: 6 | Iter:   20 | Time: 00:00:53 | Train Loss: 1.2102 | Average Loss: 1.7574 \n",
            "Epoch: 6 | Iter:   40 | Time: 00:00:56 | Train Loss: 0.9430 | Average Loss: 1.7294 \n",
            "Epoch: 6 | Iter:   60 | Time: 00:00:58 | Train Loss: 1.1798 | Average Loss: 1.7008 \n",
            "Accuracy: 0.541667 | Time: 00:00:00\n",
            "Epoch: 7 | Iter:    0 | Time: 00:01:00 | Train Loss: 1.0866 | Average Loss: 1.6925 \n",
            "Epoch: 7 | Iter:   20 | Time: 00:01:02 | Train Loss: 1.1638 | Average Loss: 1.6665 \n",
            "Epoch: 7 | Iter:   40 | Time: 00:01:05 | Train Loss: 0.9297 | Average Loss: 1.6391 \n",
            "Epoch: 7 | Iter:   60 | Time: 00:01:08 | Train Loss: 1.2380 | Average Loss: 1.6138 \n",
            "Accuracy: 0.559896 | Time: 00:00:00\n",
            "Epoch: 8 | Iter:    0 | Time: 00:01:09 | Train Loss: 1.0231 | Average Loss: 1.6062 \n",
            "Epoch: 8 | Iter:   20 | Time: 00:01:12 | Train Loss: 0.9887 | Average Loss: 1.5849 \n",
            "Epoch: 8 | Iter:   40 | Time: 00:01:15 | Train Loss: 0.7654 | Average Loss: 1.5629 \n",
            "Epoch: 8 | Iter:   60 | Time: 00:01:18 | Train Loss: 0.9655 | Average Loss: 1.5414 \n",
            "Accuracy: 0.578125 | Time: 00:00:00\n",
            "Epoch: 9 | Iter:    0 | Time: 00:01:19 | Train Loss: 0.7985 | Average Loss: 1.5331 \n",
            "Epoch: 9 | Iter:   20 | Time: 00:01:22 | Train Loss: 0.9397 | Average Loss: 1.5134 \n",
            "Epoch: 9 | Iter:   40 | Time: 00:01:25 | Train Loss: 0.9357 | Average Loss: 1.4955 \n",
            "Epoch: 9 | Iter:   60 | Time: 00:01:27 | Train Loss: 0.9578 | Average Loss: 1.4764 \n",
            "Accuracy: 0.572917 | Time: 00:00:00\n",
            "Epoch:10 | Iter:    0 | Time: 00:01:29 | Train Loss: 0.7805 | Average Loss: 1.4693 \n",
            "Epoch:10 | Iter:   20 | Time: 00:01:31 | Train Loss: 0.8794 | Average Loss: 1.4510 \n",
            "Epoch:10 | Iter:   40 | Time: 00:01:34 | Train Loss: 0.7924 | Average Loss: 1.4331 \n",
            "Epoch:10 | Iter:   60 | Time: 00:01:37 | Train Loss: 0.6676 | Average Loss: 1.4157 \n",
            "Accuracy: 0.565104 | Time: 00:00:00\n",
            "Epoch:11 | Iter:    0 | Time: 00:01:38 | Train Loss: 0.6752 | Average Loss: 1.4098 \n",
            "Epoch:11 | Iter:   20 | Time: 00:01:41 | Train Loss: 0.9545 | Average Loss: 1.3934 \n",
            "Epoch:11 | Iter:   40 | Time: 00:01:44 | Train Loss: 0.6611 | Average Loss: 1.3775 \n",
            "Epoch:11 | Iter:   60 | Time: 00:01:47 | Train Loss: 0.7357 | Average Loss: 1.3611 \n",
            "Accuracy: 0.554688 | Time: 00:00:00\n",
            "Epoch:12 | Iter:    0 | Time: 00:01:48 | Train Loss: 0.6867 | Average Loss: 1.3558 \n",
            "Epoch:12 | Iter:   20 | Time: 00:01:51 | Train Loss: 0.6398 | Average Loss: 1.3402 \n",
            "Epoch:12 | Iter:   40 | Time: 00:01:54 | Train Loss: 0.9922 | Average Loss: 1.3249 \n",
            "Epoch:12 | Iter:   60 | Time: 00:01:56 | Train Loss: 0.6684 | Average Loss: 1.3103 \n",
            "Accuracy: 0.572917 | Time: 00:00:00\n",
            "Epoch:13 | Iter:    0 | Time: 00:01:58 | Train Loss: 0.7689 | Average Loss: 1.3052 \n",
            "Epoch:13 | Iter:   20 | Time: 00:02:01 | Train Loss: 0.9098 | Average Loss: 1.2921 \n",
            "Epoch:13 | Iter:   40 | Time: 00:02:03 | Train Loss: 0.5250 | Average Loss: 1.2775 \n",
            "Epoch:13 | Iter:   60 | Time: 00:02:06 | Train Loss: 0.6263 | Average Loss: 1.2636 \n",
            "Accuracy: 0.562500 | Time: 00:00:00\n",
            "Epoch:14 | Iter:    0 | Time: 00:02:07 | Train Loss: 0.6112 | Average Loss: 1.2590 \n",
            "Epoch:14 | Iter:   20 | Time: 00:02:10 | Train Loss: 0.7647 | Average Loss: 1.2471 \n",
            "Epoch:14 | Iter:   40 | Time: 00:02:13 | Train Loss: 0.5791 | Average Loss: 1.2357 \n",
            "Epoch:14 | Iter:   60 | Time: 00:02:16 | Train Loss: 0.6803 | Average Loss: 1.2235 \n",
            "Accuracy: 0.580729 | Time: 00:00:00\n",
            "Epoch:15 | Iter:    0 | Time: 00:02:17 | Train Loss: 0.5400 | Average Loss: 1.2196 \n",
            "Epoch:15 | Iter:   20 | Time: 00:02:20 | Train Loss: 0.6416 | Average Loss: 1.2077 \n",
            "Epoch:15 | Iter:   40 | Time: 00:02:23 | Train Loss: 0.5663 | Average Loss: 1.1960 \n",
            "Epoch:15 | Iter:   60 | Time: 00:02:25 | Train Loss: 0.4735 | Average Loss: 1.1846 \n",
            "Accuracy: 0.552083 | Time: 00:00:00\n",
            "Epoch:16 | Iter:    0 | Time: 00:02:27 | Train Loss: 0.5769 | Average Loss: 1.1808 \n",
            "Epoch:16 | Iter:   20 | Time: 00:02:30 | Train Loss: 0.6479 | Average Loss: 1.1703 \n",
            "Epoch:16 | Iter:   40 | Time: 00:02:32 | Train Loss: 0.5305 | Average Loss: 1.1604 \n",
            "Epoch:16 | Iter:   60 | Time: 00:02:35 | Train Loss: 0.5098 | Average Loss: 1.1492 \n",
            "Accuracy: 0.580729 | Time: 00:00:00\n",
            "Epoch:17 | Iter:    0 | Time: 00:02:37 | Train Loss: 0.5340 | Average Loss: 1.1455 \n",
            "Epoch:17 | Iter:   20 | Time: 00:02:39 | Train Loss: 0.4274 | Average Loss: 1.1352 \n",
            "Epoch:17 | Iter:   40 | Time: 00:02:42 | Train Loss: 0.6129 | Average Loss: 1.1250 \n",
            "Epoch:17 | Iter:   60 | Time: 00:02:45 | Train Loss: 0.6328 | Average Loss: 1.1156 \n",
            "Accuracy: 0.591146 | Time: 00:00:00\n",
            "Epoch:18 | Iter:    0 | Time: 00:02:46 | Train Loss: 0.4209 | Average Loss: 1.1124 \n",
            "Epoch:18 | Iter:   20 | Time: 00:02:49 | Train Loss: 0.7862 | Average Loss: 1.1035 \n",
            "Epoch:18 | Iter:   40 | Time: 00:02:52 | Train Loss: 0.5616 | Average Loss: 1.0944 \n",
            "Epoch:18 | Iter:   60 | Time: 00:02:55 | Train Loss: 0.3902 | Average Loss: 1.0858 \n",
            "Accuracy: 0.559896 | Time: 00:00:00\n",
            "Epoch:19 | Iter:    0 | Time: 00:02:56 | Train Loss: 0.4548 | Average Loss: 1.0824 \n",
            "Epoch:19 | Iter:   20 | Time: 00:02:59 | Train Loss: 0.7131 | Average Loss: 1.0741 \n",
            "Epoch:19 | Iter:   40 | Time: 00:03:02 | Train Loss: 0.5346 | Average Loss: 1.0656 \n",
            "Epoch:19 | Iter:   60 | Time: 00:03:04 | Train Loss: 0.8225 | Average Loss: 1.0573 \n",
            "Accuracy: 0.572917 | Time: 00:00:00\n",
            "Epoch:20 | Iter:    0 | Time: 00:03:06 | Train Loss: 0.4830 | Average Loss: 1.0541 \n",
            "Epoch:20 | Iter:   20 | Time: 00:03:09 | Train Loss: 0.4723 | Average Loss: 1.0450 \n",
            "Epoch:20 | Iter:   40 | Time: 00:03:11 | Train Loss: 0.2852 | Average Loss: 1.0366 \n",
            "Epoch:20 | Iter:   60 | Time: 00:03:14 | Train Loss: 0.3343 | Average Loss: 1.0280 \n",
            "Accuracy: 0.580729 | Time: 00:00:00\n"
          ],
          "name": "stdout"
        }
      ]
    },
    {
      "cell_type": "code",
      "metadata": {
        "colab": {
          "base_uri": "https://localhost:8080/"
        },
        "id": "oAcf6__XQEnM",
        "outputId": "51e4af14-e950-4300-9969-72de495374c8"
      },
      "source": [
        "evalModel(net,testloader_small)"
      ],
      "execution_count": null,
      "outputs": [
        {
          "output_type": "stream",
          "text": [
            "Accuracy: 0.580729 | Time: 00:00:00\n"
          ],
          "name": "stdout"
        }
      ]
    },
    {
      "cell_type": "markdown",
      "metadata": {
        "id": "WwDpNw03ELy9"
      },
      "source": [
        "**Answer**:\n",
        "\n",
        "Data augmentation: \n",
        "Added mirrored images by using np.flip along 0 axis\n",
        "\n",
        "Data normalization: \n",
        "Normalized the images by subtracting by mean\n",
        "\n",
        "Layer 1: Convolution Layer with param 1 ip channel ,16 intermediate channels,kernel size 3\n",
        "\n",
        "Layer 2: ReLU activation layer\n",
        "\n",
        "Layer 3: Pooling layer with kernel size 4 and stride 2\n",
        "\n",
        "Layer 4: Convolution layer with param 16 intermediate channels,32 final channels, kernel size 3\n",
        "\n",
        "Layer 5: ReLU activation layer\n",
        "\n",
        "Layer 6: Pooling layer with kernel size 4 and stride 2\n",
        "\n",
        "Layer 7: Dropout layer with p=0.5\n",
        "\n",
        "Layer 8 : Linear layer with intermediate features = 212\n",
        "\n",
        "Layer 9: Dropout layer with p=0.25\n",
        "\n",
        "Layer 10 : Linear layer with final features = 16\n",
        "\n",
        "Accuracy on test set: 0.58729\n"
      ]
    },
    {
      "cell_type": "markdown",
      "metadata": {
        "id": "6RG-72WSzVEp"
      },
      "source": [
        "## Problem 1.2\n",
        "\n",
        "(15 points) Try **three different techniques** taught in the class to increase the accuracy of your model. Such as increasing training data by randomly rotating training images, adding batch normalization, different activation functions (e.g., sigmoid) and model architecture modification. Note that too many layers can do you no good due to insufficient training data. Clearly describe your method and accuracy increase/decrease for each of the three techniques.\n",
        "\n",
        "The minimum accuracy required for this section is **0.60**. (At least one Technique should achieve this)\n",
        "\n",
        "### Technique 1"
      ]
    },
    {
      "cell_type": "code",
      "metadata": {
        "id": "Rq6mIYHMfUcv",
        "colab": {
          "base_uri": "https://localhost:8080/"
        },
        "outputId": "d8ff3272-addf-46d1-d022-50cc66302bf7"
      },
      "source": [
        "#--------------------------------------------------\n",
        "#    Load Training Data and Testing Data\n",
        "#--------------------------------------------------\n",
        "# load data into size (64, 64)\n",
        "img_size = (64, 64)\n",
        "batch_size = 64 # training sample number per batch\n",
        "\n",
        "# load training dataset\n",
        "trainloader_small = list(load_dataset('./data/train/', img_size, batch_size=batch_size, shuffle=True, augment=True, zero_centered=True))\n",
        "train_num = len(trainloader_small)\n",
        "print(\"Finish loading %d minibatches (batch_size=%d) of training samples.\" % (train_num, batch_size))\n",
        "\n",
        "# load testing dataset\n",
        "testloader_small = list(load_dataset('./data/test/', img_size, num_per_class=50, batch_size=batch_size, zero_centered=True))\n",
        "test_num = len(testloader_small)\n",
        "print(\"Finish loading %d minibatches (batch_size=%d) of testing samples.\" % (test_num, batch_size))"
      ],
      "execution_count": null,
      "outputs": [
        {
          "output_type": "stream",
          "text": [
            "Loading images from class: 0\n",
            "Loading images from class: 1\n",
            "Loading images from class: 2\n",
            "Loading images from class: 3\n",
            "Loading images from class: 4\n",
            "Loading images from class: 5\n",
            "Loading images from class: 6\n",
            "Loading images from class: 7\n",
            "Loading images from class: 8\n",
            "Loading images from class: 9\n",
            "Loading images from class: 10\n",
            "Loading images from class: 11\n",
            "Loading images from class: 12\n",
            "Loading images from class: 13\n",
            "Loading images from class: 14\n",
            "Loading images from class: 15\n",
            "Finish loading 67 minibatches (batch_size=64) of training samples.\n",
            "Loading images from class: 0\n",
            "Loading images from class: 1\n",
            "Loading images from class: 2\n",
            "Loading images from class: 3\n",
            "Loading images from class: 4\n",
            "Loading images from class: 5\n",
            "Loading images from class: 6\n",
            "Loading images from class: 7\n",
            "Loading images from class: 8\n",
            "Loading images from class: 9\n",
            "Loading images from class: 10\n",
            "Loading images from class: 11\n",
            "Loading images from class: 12\n",
            "Loading images from class: 13\n",
            "Loading images from class: 14\n",
            "Loading images from class: 15\n",
            "Finish loading 6 minibatches (batch_size=64) of testing samples.\n"
          ],
          "name": "stdout"
        }
      ]
    },
    {
      "cell_type": "code",
      "metadata": {
        "id": "qhdvKxQoSpKw"
      },
      "source": [
        "#--------------------------------------------------\n",
        "#       Define Network Architecture\n",
        "#--------------------------------------------------\n",
        "\n",
        "class MyNet(nn.Module):\n",
        "    def __init__(self):\n",
        "      super(MyNet,self).__init__()  \n",
        "           \n",
        "      self.features = torch.nn.Sequential(\n",
        "        nn.Conv2d(1, 16, 3),\n",
        "        nn.ReLU(),\n",
        "        nn.MaxPool2d(4, stride=2),\n",
        "        nn.Conv2d(16,64,3),\n",
        "        nn.ReLU(),\n",
        "        nn.MaxPool2d(4, stride=2)\n",
        "      )\n",
        "\n",
        "      self.classifier = nn.Sequential(\n",
        "         nn.Linear(64 * 13 * 13, 212), \n",
        "         nn.BatchNorm1d(212),\n",
        "         nn.Dropout2d(0.25),\n",
        "         nn.Linear(212,16)\n",
        "      )\n",
        "      \n",
        "    def forward(self, x):\n",
        "      x = self.features(x)\n",
        "      x = torch.flatten(x, 1)\n",
        "      x = self.classifier(x)\n",
        "      return x  "
      ],
      "execution_count": null,
      "outputs": []
    },
    {
      "cell_type": "code",
      "metadata": {
        "id": "_T2UG90ATZ3K",
        "colab": {
          "base_uri": "https://localhost:8080/"
        },
        "outputId": "0d426491-71b4-4908-8ef6-b74a8d2ff229"
      },
      "source": [
        "#--------------------------------------------------\n",
        "#       Start Training & Evaluation\n",
        "#--------------------------------------------------\n",
        "\n",
        "net_1 = MyNet() \n",
        "train_option = {}\n",
        "train_option['lr'] = 0.001\n",
        "train_option['epoch'] = 20\n",
        "\n",
        "device = torch.device(\"cuda:0\" if torch.cuda.is_available() else \"cpu\")\n",
        "net_1 = net_1.to(device)\n",
        "\n",
        "trainModel(net_1, trainloader_small, train_option, testloader_small)"
      ],
      "execution_count": null,
      "outputs": [
        {
          "output_type": "stream",
          "text": [
            "Epoch: 1 | Iter:    0 | Time: 00:00:00 | Train Loss: 2.8598 | Average Loss: 2.8598 \n",
            "Epoch: 1 | Iter:   20 | Time: 00:00:02 | Train Loss: 2.0293 | Average Loss: 2.2753 \n",
            "Epoch: 1 | Iter:   40 | Time: 00:00:05 | Train Loss: 1.5409 | Average Loss: 2.0577 \n",
            "Epoch: 1 | Iter:   60 | Time: 00:00:08 | Train Loss: 1.2975 | Average Loss: 1.8803 \n",
            "Accuracy: 0.471354 | Time: 00:00:00\n",
            "Epoch: 2 | Iter:    0 | Time: 00:00:09 | Train Loss: 0.8411 | Average Loss: 1.8278 \n",
            "Epoch: 2 | Iter:   20 | Time: 00:00:12 | Train Loss: 1.1054 | Average Loss: 1.6771 \n",
            "Epoch: 2 | Iter:   40 | Time: 00:00:15 | Train Loss: 0.8452 | Average Loss: 1.5648 \n",
            "Epoch: 2 | Iter:   60 | Time: 00:00:18 | Train Loss: 0.8801 | Average Loss: 1.4705 \n",
            "Accuracy: 0.557292 | Time: 00:00:00\n",
            "Epoch: 3 | Iter:    0 | Time: 00:00:19 | Train Loss: 0.5601 | Average Loss: 1.4401 \n",
            "Epoch: 3 | Iter:   20 | Time: 00:00:22 | Train Loss: 0.6655 | Average Loss: 1.3487 \n",
            "Epoch: 3 | Iter:   40 | Time: 00:00:25 | Train Loss: 0.5682 | Average Loss: 1.2706 \n",
            "Epoch: 3 | Iter:   60 | Time: 00:00:27 | Train Loss: 0.5407 | Average Loss: 1.2008 \n",
            "Accuracy: 0.536458 | Time: 00:00:00\n",
            "Epoch: 4 | Iter:    0 | Time: 00:00:29 | Train Loss: 0.3739 | Average Loss: 1.1786 \n",
            "Epoch: 4 | Iter:   20 | Time: 00:00:32 | Train Loss: 0.4056 | Average Loss: 1.1125 \n",
            "Epoch: 4 | Iter:   40 | Time: 00:00:34 | Train Loss: 0.2631 | Average Loss: 1.0529 \n",
            "Epoch: 4 | Iter:   60 | Time: 00:00:37 | Train Loss: 0.3430 | Average Loss: 0.9986 \n",
            "Accuracy: 0.567708 | Time: 00:00:00\n",
            "Epoch: 5 | Iter:    0 | Time: 00:00:38 | Train Loss: 0.2505 | Average Loss: 0.9826 \n",
            "Epoch: 5 | Iter:   20 | Time: 00:00:41 | Train Loss: 0.2650 | Average Loss: 0.9346 \n",
            "Epoch: 5 | Iter:   40 | Time: 00:00:44 | Train Loss: 0.1971 | Average Loss: 0.8898 \n",
            "Epoch: 5 | Iter:   60 | Time: 00:00:47 | Train Loss: 0.1638 | Average Loss: 0.8501 \n",
            "Accuracy: 0.539062 | Time: 00:00:00\n",
            "Epoch: 6 | Iter:    0 | Time: 00:00:48 | Train Loss: 0.2101 | Average Loss: 0.8370 \n",
            "Epoch: 6 | Iter:   20 | Time: 00:00:51 | Train Loss: 0.1534 | Average Loss: 0.8012 \n",
            "Epoch: 6 | Iter:   40 | Time: 00:00:54 | Train Loss: 0.2196 | Average Loss: 0.7680 \n",
            "Epoch: 6 | Iter:   60 | Time: 00:00:56 | Train Loss: 0.1412 | Average Loss: 0.7383 \n",
            "Accuracy: 0.520833 | Time: 00:00:00\n",
            "Epoch: 7 | Iter:    0 | Time: 00:00:58 | Train Loss: 0.1069 | Average Loss: 0.7286 \n",
            "Epoch: 7 | Iter:   20 | Time: 00:01:00 | Train Loss: 0.1008 | Average Loss: 0.7019 \n",
            "Epoch: 7 | Iter:   40 | Time: 00:01:03 | Train Loss: 0.1157 | Average Loss: 0.6769 \n",
            "Epoch: 7 | Iter:   60 | Time: 00:01:06 | Train Loss: 0.1444 | Average Loss: 0.6531 \n",
            "Accuracy: 0.552083 | Time: 00:00:00\n",
            "Epoch: 8 | Iter:    0 | Time: 00:01:07 | Train Loss: 0.0970 | Average Loss: 0.6449 \n",
            "Epoch: 8 | Iter:   20 | Time: 00:01:10 | Train Loss: 0.1130 | Average Loss: 0.6225 \n",
            "Epoch: 8 | Iter:   40 | Time: 00:01:13 | Train Loss: 0.1285 | Average Loss: 0.6012 \n",
            "Epoch: 8 | Iter:   60 | Time: 00:01:16 | Train Loss: 0.0615 | Average Loss: 0.5810 \n",
            "Accuracy: 0.619792 | Time: 00:00:00\n",
            "Epoch: 9 | Iter:    0 | Time: 00:01:17 | Train Loss: 0.0419 | Average Loss: 0.5742 \n",
            "Epoch: 9 | Iter:   20 | Time: 00:01:20 | Train Loss: 0.0776 | Average Loss: 0.5555 \n",
            "Epoch: 9 | Iter:   40 | Time: 00:01:22 | Train Loss: 0.0520 | Average Loss: 0.5380 \n",
            "Epoch: 9 | Iter:   60 | Time: 00:01:25 | Train Loss: 0.0474 | Average Loss: 0.5214 \n",
            "Accuracy: 0.544271 | Time: 00:00:00\n",
            "Epoch:10 | Iter:    0 | Time: 00:01:27 | Train Loss: 0.0366 | Average Loss: 0.5158 \n",
            "Epoch:10 | Iter:   20 | Time: 00:01:29 | Train Loss: 0.0153 | Average Loss: 0.5004 \n",
            "Epoch:10 | Iter:   40 | Time: 00:01:32 | Train Loss: 0.0317 | Average Loss: 0.4857 \n",
            "Epoch:10 | Iter:   60 | Time: 00:01:35 | Train Loss: 0.0140 | Average Loss: 0.4718 \n",
            "Accuracy: 0.570312 | Time: 00:00:00\n",
            "Epoch:11 | Iter:    0 | Time: 00:01:36 | Train Loss: 0.0233 | Average Loss: 0.4671 \n",
            "Epoch:11 | Iter:   20 | Time: 00:01:39 | Train Loss: 0.0094 | Average Loss: 0.4541 \n",
            "Epoch:11 | Iter:   40 | Time: 00:01:42 | Train Loss: 0.0076 | Average Loss: 0.4417 \n",
            "Epoch:11 | Iter:   60 | Time: 00:01:45 | Train Loss: 0.0105 | Average Loss: 0.4300 \n",
            "Accuracy: 0.580729 | Time: 00:00:00\n",
            "Epoch:12 | Iter:    0 | Time: 00:01:46 | Train Loss: 0.0192 | Average Loss: 0.4260 \n",
            "Epoch:12 | Iter:   20 | Time: 00:01:49 | Train Loss: 0.0109 | Average Loss: 0.4151 \n",
            "Epoch:12 | Iter:   40 | Time: 00:01:51 | Train Loss: 0.0074 | Average Loss: 0.4048 \n",
            "Epoch:12 | Iter:   60 | Time: 00:01:54 | Train Loss: 0.0094 | Average Loss: 0.3949 \n",
            "Accuracy: 0.583333 | Time: 00:00:00\n",
            "Epoch:13 | Iter:    0 | Time: 00:01:55 | Train Loss: 0.0131 | Average Loss: 0.3916 \n",
            "Epoch:13 | Iter:   20 | Time: 00:01:58 | Train Loss: 0.0131 | Average Loss: 0.3823 \n",
            "Epoch:13 | Iter:   40 | Time: 00:02:01 | Train Loss: 0.0079 | Average Loss: 0.3735 \n",
            "Epoch:13 | Iter:   60 | Time: 00:02:04 | Train Loss: 0.0047 | Average Loss: 0.3651 \n",
            "Accuracy: 0.606771 | Time: 00:00:00\n",
            "Epoch:14 | Iter:    0 | Time: 00:02:05 | Train Loss: 0.0054 | Average Loss: 0.3622 \n",
            "Epoch:14 | Iter:   20 | Time: 00:02:08 | Train Loss: 0.0080 | Average Loss: 0.3542 \n",
            "Epoch:14 | Iter:   40 | Time: 00:02:10 | Train Loss: 0.0066 | Average Loss: 0.3466 \n",
            "Epoch:14 | Iter:   60 | Time: 00:02:13 | Train Loss: 0.0074 | Average Loss: 0.3393 \n",
            "Accuracy: 0.601562 | Time: 00:00:00\n",
            "Epoch:15 | Iter:    0 | Time: 00:02:14 | Train Loss: 0.0045 | Average Loss: 0.3369 \n",
            "Epoch:15 | Iter:   20 | Time: 00:02:17 | Train Loss: 0.0067 | Average Loss: 0.3300 \n",
            "Epoch:15 | Iter:   40 | Time: 00:02:20 | Train Loss: 0.0045 | Average Loss: 0.3233 \n",
            "Epoch:15 | Iter:   60 | Time: 00:02:23 | Train Loss: 0.0037 | Average Loss: 0.3169 \n",
            "Accuracy: 0.572917 | Time: 00:00:00\n",
            "Epoch:16 | Iter:    0 | Time: 00:02:24 | Train Loss: 0.0035 | Average Loss: 0.3148 \n",
            "Epoch:16 | Iter:   20 | Time: 00:02:27 | Train Loss: 0.0031 | Average Loss: 0.3087 \n",
            "Epoch:16 | Iter:   40 | Time: 00:02:29 | Train Loss: 0.0033 | Average Loss: 0.3028 \n",
            "Epoch:16 | Iter:   60 | Time: 00:02:32 | Train Loss: 0.0024 | Average Loss: 0.2972 \n",
            "Accuracy: 0.588542 | Time: 00:00:00\n",
            "Epoch:17 | Iter:    0 | Time: 00:02:33 | Train Loss: 0.0029 | Average Loss: 0.2953 \n",
            "Epoch:17 | Iter:   20 | Time: 00:02:36 | Train Loss: 0.0022 | Average Loss: 0.2899 \n",
            "Epoch:17 | Iter:   40 | Time: 00:02:40 | Train Loss: 0.0025 | Average Loss: 0.2848 \n",
            "Epoch:17 | Iter:   60 | Time: 00:02:43 | Train Loss: 0.0024 | Average Loss: 0.2798 \n",
            "Accuracy: 0.591146 | Time: 00:00:00\n",
            "Epoch:18 | Iter:    0 | Time: 00:02:44 | Train Loss: 0.0039 | Average Loss: 0.2781 \n",
            "Epoch:18 | Iter:   20 | Time: 00:02:47 | Train Loss: 0.0018 | Average Loss: 0.2733 \n",
            "Epoch:18 | Iter:   40 | Time: 00:02:50 | Train Loss: 0.0018 | Average Loss: 0.2687 \n",
            "Epoch:18 | Iter:   60 | Time: 00:02:53 | Train Loss: 0.0028 | Average Loss: 0.2643 \n",
            "Accuracy: 0.591146 | Time: 00:00:00\n",
            "Epoch:19 | Iter:    0 | Time: 00:02:54 | Train Loss: 0.0020 | Average Loss: 0.2627 \n",
            "Epoch:19 | Iter:   20 | Time: 00:02:57 | Train Loss: 0.0020 | Average Loss: 0.2585 \n",
            "Epoch:19 | Iter:   40 | Time: 00:02:59 | Train Loss: 0.0014 | Average Loss: 0.2544 \n",
            "Epoch:19 | Iter:   60 | Time: 00:03:02 | Train Loss: 0.0019 | Average Loss: 0.2504 \n",
            "Accuracy: 0.606771 | Time: 00:00:00\n",
            "Epoch:20 | Iter:    0 | Time: 00:03:03 | Train Loss: 0.0026 | Average Loss: 0.2490 \n",
            "Epoch:20 | Iter:   20 | Time: 00:03:06 | Train Loss: 0.0015 | Average Loss: 0.2452 \n",
            "Epoch:20 | Iter:   40 | Time: 00:03:09 | Train Loss: 0.0011 | Average Loss: 0.2415 \n",
            "Epoch:20 | Iter:   60 | Time: 00:03:12 | Train Loss: 0.0020 | Average Loss: 0.2379 \n",
            "Accuracy: 0.598958 | Time: 00:00:00\n"
          ],
          "name": "stdout"
        }
      ]
    },
    {
      "cell_type": "code",
      "metadata": {
        "colab": {
          "base_uri": "https://localhost:8080/"
        },
        "id": "nW3dx_3TUgIt",
        "outputId": "6932e039-dae4-42c0-d159-6db9c42e75c1"
      },
      "source": [
        "evalModel(net_1,testloader_small)"
      ],
      "execution_count": null,
      "outputs": [
        {
          "output_type": "stream",
          "text": [
            "Accuracy: 0.598958 | Time: 00:00:00\n"
          ],
          "name": "stdout"
        }
      ]
    },
    {
      "cell_type": "markdown",
      "metadata": {
        "id": "MxlW_6DqLzmM"
      },
      "source": [
        "**Answer**:\n",
        "\n",
        "Technique 1: Added batch normalization and removed dropout layer in features\n",
        "\n",
        "Accuracy on test set: 0.598958  \n",
        "\n",
        "Accuracy increases/decreases: Increases"
      ]
    },
    {
      "cell_type": "markdown",
      "metadata": {
        "id": "IkePS4VnHnZO"
      },
      "source": [
        "### Technique 2"
      ]
    },
    {
      "cell_type": "code",
      "metadata": {
        "id": "lgzhiz12fXjj",
        "colab": {
          "base_uri": "https://localhost:8080/"
        },
        "outputId": "3094ee0e-3045-4fa5-fb5b-7c45022c6300"
      },
      "source": [
        "#--------------------------------------------------\n",
        "#    Load Training Data and Testing Data\n",
        "#--------------------------------------------------\n",
        "# load data into size (64, 64)\n",
        "img_size = (64, 64)\n",
        "batch_size = 64 # training sample number per batch\n",
        "\n",
        "# load training dataset\n",
        "trainloader_small = list(load_dataset('./data/train/', img_size, batch_size=batch_size, shuffle=True, augment=True, zero_centered=True))\n",
        "train_num = len(trainloader_small)\n",
        "print(\"Finish loading %d minibatches (batch_size=%d) of training samples.\" % (train_num, batch_size))\n",
        "\n",
        "# load testing dataset\n",
        "testloader_small = list(load_dataset('./data/test/', img_size, num_per_class=50, batch_size=batch_size, zero_centered=True))\n",
        "test_num = len(testloader_small)\n",
        "print(\"Finish loading %d minibatches (batch_size=%d) of testing samples.\" % (test_num, batch_size))"
      ],
      "execution_count": null,
      "outputs": [
        {
          "output_type": "stream",
          "text": [
            "Loading images from class: 0\n",
            "Loading images from class: 1\n",
            "Loading images from class: 2\n",
            "Loading images from class: 3\n",
            "Loading images from class: 4\n",
            "Loading images from class: 5\n",
            "Loading images from class: 6\n",
            "Loading images from class: 7\n",
            "Loading images from class: 8\n",
            "Loading images from class: 9\n",
            "Loading images from class: 10\n",
            "Loading images from class: 11\n",
            "Loading images from class: 12\n",
            "Loading images from class: 13\n",
            "Loading images from class: 14\n",
            "Loading images from class: 15\n",
            "Finish loading 67 minibatches (batch_size=64) of training samples.\n",
            "Loading images from class: 0\n",
            "Loading images from class: 1\n",
            "Loading images from class: 2\n",
            "Loading images from class: 3\n",
            "Loading images from class: 4\n",
            "Loading images from class: 5\n",
            "Loading images from class: 6\n",
            "Loading images from class: 7\n",
            "Loading images from class: 8\n",
            "Loading images from class: 9\n",
            "Loading images from class: 10\n",
            "Loading images from class: 11\n",
            "Loading images from class: 12\n",
            "Loading images from class: 13\n",
            "Loading images from class: 14\n",
            "Loading images from class: 15\n",
            "Finish loading 6 minibatches (batch_size=64) of testing samples.\n"
          ],
          "name": "stdout"
        }
      ]
    },
    {
      "cell_type": "code",
      "metadata": {
        "id": "j5ozpyI0T8aE"
      },
      "source": [
        "#--------------------------------------------------\n",
        "#       Define Network Architecture\n",
        "#--------------------------------------------------\n",
        "\n",
        "class MyNet(nn.Module):\n",
        "    def __init__(self):\n",
        "      super(MyNet,self).__init__()  \n",
        "           \n",
        "      self.features = torch.nn.Sequential(\n",
        "        nn.Conv2d(1, 16, 3),\n",
        "        nn.ReLU(),\n",
        "        nn.MaxPool2d(4, stride=2),\n",
        "        nn.Conv2d(16,64,3),\n",
        "        nn.ReLU(),\n",
        "        nn.MaxPool2d(4, stride=2)\n",
        "      )\n",
        "\n",
        "      self.classifier = nn.Sequential(\n",
        "         nn.Linear(64 * 13 * 13, 212), \n",
        "         nn.ReLU(),\n",
        "         nn.Dropout2d(0.25),\n",
        "         nn.Linear(212,64)\n",
        "      )\n",
        "      \n",
        "    def forward(self, x):\n",
        "      x = self.features(x)\n",
        "      x = torch.flatten(x, 1)\n",
        "      x = self.classifier(x)\n",
        "      return x  "
      ],
      "execution_count": null,
      "outputs": []
    },
    {
      "cell_type": "code",
      "metadata": {
        "id": "sdy9SRdFsyWZ",
        "colab": {
          "base_uri": "https://localhost:8080/"
        },
        "outputId": "724df16f-d096-4b32-fa29-571c2160d03d"
      },
      "source": [
        "#--------------------------------------------------\n",
        "#       Start Training & Evaluation\n",
        "#--------------------------------------------------\n",
        "net_2 = MyNet() \n",
        "train_option = {}\n",
        "train_option['lr'] = 0.001\n",
        "train_option['epoch'] = 20\n",
        "\n",
        "device = torch.device(\"cuda:0\" if torch.cuda.is_available() else \"cpu\")\n",
        "net_2 = net_2.to(device)\n",
        "\n",
        "trainModel(net_2, trainloader_small, train_option, testloader_small)"
      ],
      "execution_count": null,
      "outputs": [
        {
          "output_type": "stream",
          "text": [
            "Epoch: 1 | Iter:    0 | Time: 00:00:00 | Train Loss: 4.1715 | Average Loss: 4.1715 \n",
            "Epoch: 1 | Iter:   20 | Time: 00:00:02 | Train Loss: 2.5412 | Average Loss: 2.9341 \n",
            "Epoch: 1 | Iter:   40 | Time: 00:00:05 | Train Loss: 2.1867 | Average Loss: 2.6642 \n",
            "Epoch: 1 | Iter:   60 | Time: 00:00:08 | Train Loss: 1.7338 | Average Loss: 2.4902 \n",
            "Accuracy: 0.359375 | Time: 00:00:00\n",
            "Epoch: 2 | Iter:    0 | Time: 00:00:09 | Train Loss: 1.8684 | Average Loss: 2.4411 \n",
            "Epoch: 2 | Iter:   20 | Time: 00:00:12 | Train Loss: 1.7311 | Average Loss: 2.3128 \n",
            "Epoch: 2 | Iter:   40 | Time: 00:00:15 | Train Loss: 1.6287 | Average Loss: 2.2068 \n",
            "Epoch: 2 | Iter:   60 | Time: 00:00:17 | Train Loss: 1.3314 | Average Loss: 2.1105 \n",
            "Accuracy: 0.513021 | Time: 00:00:00\n",
            "Epoch: 3 | Iter:    0 | Time: 00:00:19 | Train Loss: 1.3606 | Average Loss: 2.0796 \n",
            "Epoch: 3 | Iter:   20 | Time: 00:00:21 | Train Loss: 1.4195 | Average Loss: 1.9939 \n",
            "Epoch: 3 | Iter:   40 | Time: 00:00:24 | Train Loss: 1.1307 | Average Loss: 1.9102 \n",
            "Epoch: 3 | Iter:   60 | Time: 00:00:27 | Train Loss: 1.0369 | Average Loss: 1.8392 \n",
            "Accuracy: 0.559896 | Time: 00:00:00\n",
            "Epoch: 4 | Iter:    0 | Time: 00:00:28 | Train Loss: 1.0519 | Average Loss: 1.8143 \n",
            "Epoch: 4 | Iter:   20 | Time: 00:00:31 | Train Loss: 0.9499 | Average Loss: 1.7472 \n",
            "Epoch: 4 | Iter:   40 | Time: 00:00:34 | Train Loss: 0.8793 | Average Loss: 1.6844 \n",
            "Epoch: 4 | Iter:   60 | Time: 00:00:36 | Train Loss: 0.8786 | Average Loss: 1.6299 \n",
            "Accuracy: 0.622396 | Time: 00:00:00\n",
            "Epoch: 5 | Iter:    0 | Time: 00:00:38 | Train Loss: 0.8058 | Average Loss: 1.6126 \n",
            "Epoch: 5 | Iter:   20 | Time: 00:00:40 | Train Loss: 0.7592 | Average Loss: 1.5615 \n",
            "Epoch: 5 | Iter:   40 | Time: 00:00:43 | Train Loss: 0.7237 | Average Loss: 1.5143 \n",
            "Epoch: 5 | Iter:   60 | Time: 00:00:46 | Train Loss: 0.7564 | Average Loss: 1.4712 \n",
            "Accuracy: 0.598958 | Time: 00:00:00\n",
            "Epoch: 6 | Iter:    0 | Time: 00:00:47 | Train Loss: 0.6431 | Average Loss: 1.4576 \n",
            "Epoch: 6 | Iter:   20 | Time: 00:00:50 | Train Loss: 0.5990 | Average Loss: 1.4154 \n",
            "Epoch: 6 | Iter:   40 | Time: 00:00:53 | Train Loss: 0.6380 | Average Loss: 1.3765 \n",
            "Epoch: 6 | Iter:   60 | Time: 00:00:55 | Train Loss: 0.5236 | Average Loss: 1.3409 \n",
            "Accuracy: 0.611979 | Time: 00:00:00\n",
            "Epoch: 7 | Iter:    0 | Time: 00:00:57 | Train Loss: 0.5040 | Average Loss: 1.3286 \n",
            "Epoch: 7 | Iter:   20 | Time: 00:01:00 | Train Loss: 0.5297 | Average Loss: 1.2932 \n",
            "Epoch: 7 | Iter:   40 | Time: 00:01:02 | Train Loss: 0.4814 | Average Loss: 1.2609 \n",
            "Epoch: 7 | Iter:   60 | Time: 00:01:05 | Train Loss: 0.3918 | Average Loss: 1.2299 \n",
            "Accuracy: 0.622396 | Time: 00:00:00\n",
            "Epoch: 8 | Iter:    0 | Time: 00:01:06 | Train Loss: 0.4629 | Average Loss: 1.2195 \n",
            "Epoch: 8 | Iter:   20 | Time: 00:01:09 | Train Loss: 0.3564 | Average Loss: 1.1884 \n",
            "Epoch: 8 | Iter:   40 | Time: 00:01:12 | Train Loss: 0.3654 | Average Loss: 1.1582 \n",
            "Epoch: 8 | Iter:   60 | Time: 00:01:15 | Train Loss: 0.4173 | Average Loss: 1.1315 \n",
            "Accuracy: 0.598958 | Time: 00:00:00\n",
            "Epoch: 9 | Iter:    0 | Time: 00:01:16 | Train Loss: 0.3002 | Average Loss: 1.1222 \n",
            "Epoch: 9 | Iter:   20 | Time: 00:01:19 | Train Loss: 0.3524 | Average Loss: 1.0965 \n",
            "Epoch: 9 | Iter:   40 | Time: 00:01:21 | Train Loss: 0.2210 | Average Loss: 1.0697 \n",
            "Epoch: 9 | Iter:   60 | Time: 00:01:24 | Train Loss: 0.2423 | Average Loss: 1.0451 \n",
            "Accuracy: 0.619792 | Time: 00:00:00\n",
            "Epoch:10 | Iter:    0 | Time: 00:01:25 | Train Loss: 0.2484 | Average Loss: 1.0375 \n",
            "Epoch:10 | Iter:   20 | Time: 00:01:28 | Train Loss: 0.4328 | Average Loss: 1.0150 \n",
            "Epoch:10 | Iter:   40 | Time: 00:01:31 | Train Loss: 0.1794 | Average Loss: 0.9917 \n",
            "Epoch:10 | Iter:   60 | Time: 00:01:34 | Train Loss: 0.1855 | Average Loss: 0.9704 \n",
            "Accuracy: 0.643229 | Time: 00:00:00\n",
            "Epoch:11 | Iter:    0 | Time: 00:01:35 | Train Loss: 0.1650 | Average Loss: 0.9636 \n",
            "Epoch:11 | Iter:   20 | Time: 00:01:38 | Train Loss: 0.2326 | Average Loss: 0.9441 \n",
            "Epoch:11 | Iter:   40 | Time: 00:01:41 | Train Loss: 0.2131 | Average Loss: 0.9253 \n",
            "Epoch:11 | Iter:   60 | Time: 00:01:44 | Train Loss: 0.2058 | Average Loss: 0.9069 \n",
            "Accuracy: 0.627604 | Time: 00:00:00\n",
            "Epoch:12 | Iter:    0 | Time: 00:01:45 | Train Loss: 0.1795 | Average Loss: 0.9003 \n",
            "Epoch:12 | Iter:   20 | Time: 00:01:48 | Train Loss: 0.2005 | Average Loss: 0.8818 \n",
            "Epoch:12 | Iter:   40 | Time: 00:01:51 | Train Loss: 0.1922 | Average Loss: 0.8661 \n",
            "Epoch:12 | Iter:   60 | Time: 00:01:54 | Train Loss: 0.1779 | Average Loss: 0.8496 \n",
            "Accuracy: 0.606771 | Time: 00:00:00\n",
            "Epoch:13 | Iter:    0 | Time: 00:01:55 | Train Loss: 0.1927 | Average Loss: 0.8440 \n",
            "Epoch:13 | Iter:   20 | Time: 00:01:58 | Train Loss: 0.2006 | Average Loss: 0.8284 \n",
            "Epoch:13 | Iter:   40 | Time: 00:02:01 | Train Loss: 0.1297 | Average Loss: 0.8132 \n",
            "Epoch:13 | Iter:   60 | Time: 00:02:04 | Train Loss: 0.1610 | Average Loss: 0.7986 \n",
            "Accuracy: 0.611979 | Time: 00:00:00\n",
            "Epoch:14 | Iter:    0 | Time: 00:02:06 | Train Loss: 0.1111 | Average Loss: 0.7936 \n",
            "Epoch:14 | Iter:   20 | Time: 00:02:08 | Train Loss: 0.1172 | Average Loss: 0.7798 \n",
            "Epoch:14 | Iter:   40 | Time: 00:02:11 | Train Loss: 0.1986 | Average Loss: 0.7664 \n",
            "Epoch:14 | Iter:   60 | Time: 00:02:14 | Train Loss: 0.1336 | Average Loss: 0.7533 \n",
            "Accuracy: 0.617188 | Time: 00:00:00\n",
            "Epoch:15 | Iter:    0 | Time: 00:02:16 | Train Loss: 0.1155 | Average Loss: 0.7489 \n",
            "Epoch:15 | Iter:   20 | Time: 00:02:18 | Train Loss: 0.1076 | Average Loss: 0.7361 \n",
            "Epoch:15 | Iter:   40 | Time: 00:02:21 | Train Loss: 0.1285 | Average Loss: 0.7238 \n",
            "Epoch:15 | Iter:   60 | Time: 00:02:24 | Train Loss: 0.0830 | Average Loss: 0.7114 \n",
            "Accuracy: 0.611979 | Time: 00:00:00\n",
            "Epoch:16 | Iter:    0 | Time: 00:02:26 | Train Loss: 0.0771 | Average Loss: 0.7071 \n",
            "Epoch:16 | Iter:   20 | Time: 00:02:28 | Train Loss: 0.1287 | Average Loss: 0.6957 \n",
            "Epoch:16 | Iter:   40 | Time: 00:02:31 | Train Loss: 0.0814 | Average Loss: 0.6844 \n",
            "Epoch:16 | Iter:   60 | Time: 00:02:34 | Train Loss: 0.0788 | Average Loss: 0.6738 \n",
            "Accuracy: 0.619792 | Time: 00:00:00\n",
            "Epoch:17 | Iter:    0 | Time: 00:02:36 | Train Loss: 0.0712 | Average Loss: 0.6702 \n",
            "Epoch:17 | Iter:   20 | Time: 00:02:38 | Train Loss: 0.1668 | Average Loss: 0.6595 \n",
            "Epoch:17 | Iter:   40 | Time: 00:02:41 | Train Loss: 0.1208 | Average Loss: 0.6492 \n",
            "Epoch:17 | Iter:   60 | Time: 00:02:44 | Train Loss: 0.0783 | Average Loss: 0.6393 \n",
            "Accuracy: 0.601562 | Time: 00:00:00\n",
            "Epoch:18 | Iter:    0 | Time: 00:02:46 | Train Loss: 0.0969 | Average Loss: 0.6359 \n",
            "Epoch:18 | Iter:   20 | Time: 00:02:48 | Train Loss: 0.0901 | Average Loss: 0.6267 \n",
            "Epoch:18 | Iter:   40 | Time: 00:02:51 | Train Loss: 0.0172 | Average Loss: 0.6174 \n",
            "Epoch:18 | Iter:   60 | Time: 00:02:54 | Train Loss: 0.0456 | Average Loss: 0.6083 \n",
            "Accuracy: 0.585938 | Time: 00:00:00\n",
            "Epoch:19 | Iter:    0 | Time: 00:02:56 | Train Loss: 0.0659 | Average Loss: 0.6052 \n",
            "Epoch:19 | Iter:   20 | Time: 00:02:59 | Train Loss: 0.1272 | Average Loss: 0.5967 \n",
            "Epoch:19 | Iter:   40 | Time: 00:03:01 | Train Loss: 0.0614 | Average Loss: 0.5883 \n",
            "Epoch:19 | Iter:   60 | Time: 00:03:04 | Train Loss: 0.0594 | Average Loss: 0.5803 \n",
            "Accuracy: 0.588542 | Time: 00:00:00\n",
            "Epoch:20 | Iter:    0 | Time: 00:03:06 | Train Loss: 0.0367 | Average Loss: 0.5775 \n",
            "Epoch:20 | Iter:   20 | Time: 00:03:09 | Train Loss: 0.0484 | Average Loss: 0.5697 \n",
            "Epoch:20 | Iter:   40 | Time: 00:03:11 | Train Loss: 0.0197 | Average Loss: 0.5618 \n",
            "Epoch:20 | Iter:   60 | Time: 00:03:14 | Train Loss: 0.0262 | Average Loss: 0.5542 \n",
            "Accuracy: 0.645833 | Time: 00:00:00\n"
          ],
          "name": "stdout"
        }
      ]
    },
    {
      "cell_type": "code",
      "metadata": {
        "colab": {
          "base_uri": "https://localhost:8080/"
        },
        "id": "6BiuROCwUkz6",
        "outputId": "b59da8fb-e716-4de7-a41a-07945d248a5a"
      },
      "source": [
        "evalModel(net_2,testloader_small)"
      ],
      "execution_count": null,
      "outputs": [
        {
          "output_type": "stream",
          "text": [
            "Accuracy: 0.645833 | Time: 00:00:00\n"
          ],
          "name": "stdout"
        }
      ]
    },
    {
      "cell_type": "markdown",
      "metadata": {
        "id": "9VEgpH3eHOC3"
      },
      "source": [
        "**Answer**:\n",
        "\n",
        "Technique 2: Added a ReLU activation layer between fully connected layers, and changed output features of last fully connected layer from 16 to 64\n",
        "\n",
        "Accuracy on test set: 0.645833 \n",
        "\n",
        "Accuracy increases/decreases: Increases"
      ]
    },
    {
      "cell_type": "markdown",
      "metadata": {
        "id": "ZGgDlKIVH_wK"
      },
      "source": [
        "### Technique 3"
      ]
    },
    {
      "cell_type": "code",
      "metadata": {
        "id": "DKXeIjYIq65w",
        "colab": {
          "base_uri": "https://localhost:8080/"
        },
        "outputId": "b4e23d23-d27a-474e-b89b-fa4af9ceb09f"
      },
      "source": [
        "#--------------------------------------------------\n",
        "#    Load Training Data and Testing Data\n",
        "#--------------------------------------------------\n",
        "# load data into size (64, 64)\n",
        "img_size = (64, 64)\n",
        "batch_size = 64 # training sample number per batch\n",
        "\n",
        "# load training dataset\n",
        "trainloader_small = list(load_dataset('./data/train/', img_size, batch_size=batch_size, shuffle=True, augment=True, zero_centered=True))\n",
        "train_num = len(trainloader_small)\n",
        "print(\"Finish loading %d minibatches (batch_size=%d) of training samples.\" % (train_num, batch_size))\n",
        "\n",
        "# load testing dataset\n",
        "testloader_small = list(load_dataset('./data/test/', img_size, num_per_class=50, batch_size=batch_size, zero_centered=True))\n",
        "test_num = len(testloader_small)\n",
        "print(\"Finish loading %d minibatches (batch_size=%d) of testing samples.\" % (test_num, batch_size))"
      ],
      "execution_count": null,
      "outputs": [
        {
          "output_type": "stream",
          "text": [
            "Loading images from class: 0\n",
            "Loading images from class: 1\n",
            "Loading images from class: 2\n",
            "Loading images from class: 3\n",
            "Loading images from class: 4\n",
            "Loading images from class: 5\n",
            "Loading images from class: 6\n",
            "Loading images from class: 7\n",
            "Loading images from class: 8\n",
            "Loading images from class: 9\n",
            "Loading images from class: 10\n",
            "Loading images from class: 11\n",
            "Loading images from class: 12\n",
            "Loading images from class: 13\n",
            "Loading images from class: 14\n",
            "Loading images from class: 15\n",
            "Finish loading 67 minibatches (batch_size=64) of training samples.\n",
            "Loading images from class: 0\n",
            "Loading images from class: 1\n",
            "Loading images from class: 2\n",
            "Loading images from class: 3\n",
            "Loading images from class: 4\n",
            "Loading images from class: 5\n",
            "Loading images from class: 6\n",
            "Loading images from class: 7\n",
            "Loading images from class: 8\n",
            "Loading images from class: 9\n",
            "Loading images from class: 10\n",
            "Loading images from class: 11\n",
            "Loading images from class: 12\n",
            "Loading images from class: 13\n",
            "Loading images from class: 14\n",
            "Loading images from class: 15\n",
            "Finish loading 6 minibatches (batch_size=64) of testing samples.\n"
          ],
          "name": "stdout"
        }
      ]
    },
    {
      "cell_type": "code",
      "metadata": {
        "id": "gekIIIh9fZ8j"
      },
      "source": [
        "#--------------------------------------------------\n",
        "#       Define Network Architecture\n",
        "#--------------------------------------------------\n",
        "\n",
        "class MyNet(nn.Module):\n",
        "    def __init__(self):\n",
        "      super(MyNet,self).__init__()  \n",
        "           \n",
        "      self.features = torch.nn.Sequential(\n",
        "        nn.Conv2d(1, 16, 3),\n",
        "        nn.LeakyReLU(),\n",
        "        nn.MaxPool2d(4, stride=2),\n",
        "        nn.Conv2d(16,64,3),\n",
        "        nn.LeakyReLU(),\n",
        "        nn.MaxPool2d(4, stride=2),\n",
        "        nn.Dropout2d(0.5)\n",
        "      )\n",
        "\n",
        "      self.classifier = nn.Sequential(\n",
        "         nn.Linear(64 * 13 * 13, 212), \n",
        "         nn.LeakyReLU(),\n",
        "         nn.Dropout2d(0.25),\n",
        "         nn.Linear(212,16)\n",
        "      )\n",
        "      \n",
        "    def forward(self, x):\n",
        "      x = self.features(x)\n",
        "      x = torch.flatten(x, 1)\n",
        "      x = self.classifier(x)\n",
        "      return x  "
      ],
      "execution_count": null,
      "outputs": []
    },
    {
      "cell_type": "code",
      "metadata": {
        "id": "QonkDqbUWG0l",
        "colab": {
          "base_uri": "https://localhost:8080/"
        },
        "outputId": "51627cdd-e5f7-4c38-b365-df4de16dd82b"
      },
      "source": [
        "#--------------------------------------------------\n",
        "#       Start Training & Evaluation\n",
        "#--------------------------------------------------\n",
        "net_3 = MyNet() \n",
        "train_option = {}\n",
        "train_option['lr'] = 0.001\n",
        "train_option['epoch'] = 20\n",
        "\n",
        "device = torch.device(\"cuda:0\" if torch.cuda.is_available() else \"cpu\")\n",
        "net_3 = net_3.to(device)\n",
        "\n",
        "trainModel(net_3, trainloader_small, train_option, testloader_small)"
      ],
      "execution_count": null,
      "outputs": [
        {
          "output_type": "stream",
          "text": [
            "Epoch: 1 | Iter:    0 | Time: 00:00:00 | Train Loss: 2.7497 | Average Loss: 2.7497 \n",
            "Epoch: 1 | Iter:   20 | Time: 00:00:03 | Train Loss: 2.5636 | Average Loss: 2.6831 \n",
            "Epoch: 1 | Iter:   40 | Time: 00:00:06 | Train Loss: 2.3795 | Average Loss: 2.5613 \n",
            "Epoch: 1 | Iter:   60 | Time: 00:00:09 | Train Loss: 2.0056 | Average Loss: 2.4568 \n",
            "Accuracy: 0.346354 | Time: 00:00:00\n",
            "Epoch: 2 | Iter:    0 | Time: 00:00:11 | Train Loss: 2.0406 | Average Loss: 2.4239 \n",
            "Epoch: 2 | Iter:   20 | Time: 00:00:14 | Train Loss: 2.0679 | Average Loss: 2.3465 \n",
            "Epoch: 2 | Iter:   40 | Time: 00:00:17 | Train Loss: 1.9117 | Average Loss: 2.2804 \n",
            "Epoch: 2 | Iter:   60 | Time: 00:00:20 | Train Loss: 1.7173 | Average Loss: 2.2163 \n",
            "Accuracy: 0.434896 | Time: 00:00:00\n",
            "Epoch: 3 | Iter:    0 | Time: 00:00:21 | Train Loss: 1.7793 | Average Loss: 2.1953 \n",
            "Epoch: 3 | Iter:   20 | Time: 00:00:24 | Train Loss: 1.5949 | Average Loss: 2.1394 \n",
            "Epoch: 3 | Iter:   40 | Time: 00:00:27 | Train Loss: 1.5758 | Average Loss: 2.0838 \n",
            "Epoch: 3 | Iter:   60 | Time: 00:00:30 | Train Loss: 1.3571 | Average Loss: 2.0369 \n",
            "Accuracy: 0.489583 | Time: 00:00:00\n",
            "Epoch: 4 | Iter:    0 | Time: 00:00:32 | Train Loss: 1.5334 | Average Loss: 2.0191 \n",
            "Epoch: 4 | Iter:   20 | Time: 00:00:35 | Train Loss: 1.3477 | Average Loss: 1.9697 \n",
            "Epoch: 4 | Iter:   40 | Time: 00:00:38 | Train Loss: 1.3785 | Average Loss: 1.9267 \n",
            "Epoch: 4 | Iter:   60 | Time: 00:00:41 | Train Loss: 1.2550 | Average Loss: 1.8827 \n",
            "Accuracy: 0.531250 | Time: 00:00:00\n",
            "Epoch: 5 | Iter:    0 | Time: 00:00:42 | Train Loss: 1.2483 | Average Loss: 1.8682 \n",
            "Epoch: 5 | Iter:   20 | Time: 00:00:45 | Train Loss: 1.3559 | Average Loss: 1.8300 \n",
            "Epoch: 5 | Iter:   40 | Time: 00:00:48 | Train Loss: 1.0785 | Average Loss: 1.7906 \n",
            "Epoch: 5 | Iter:   60 | Time: 00:00:51 | Train Loss: 1.0121 | Average Loss: 1.7552 \n",
            "Accuracy: 0.559896 | Time: 00:00:00\n",
            "Epoch: 6 | Iter:    0 | Time: 00:00:53 | Train Loss: 1.0903 | Average Loss: 1.7435 \n",
            "Epoch: 6 | Iter:   20 | Time: 00:00:56 | Train Loss: 1.0994 | Average Loss: 1.7088 \n",
            "Epoch: 6 | Iter:   40 | Time: 00:00:59 | Train Loss: 0.9042 | Average Loss: 1.6743 \n",
            "Epoch: 6 | Iter:   60 | Time: 00:01:02 | Train Loss: 0.9947 | Average Loss: 1.6433 \n",
            "Accuracy: 0.572917 | Time: 00:00:00\n",
            "Epoch: 7 | Iter:    0 | Time: 00:01:04 | Train Loss: 0.9706 | Average Loss: 1.6335 \n",
            "Epoch: 7 | Iter:   20 | Time: 00:01:07 | Train Loss: 0.9100 | Average Loss: 1.6024 \n",
            "Epoch: 7 | Iter:   40 | Time: 00:01:10 | Train Loss: 0.8461 | Average Loss: 1.5741 \n",
            "Epoch: 7 | Iter:   60 | Time: 00:01:13 | Train Loss: 0.7092 | Average Loss: 1.5452 \n",
            "Accuracy: 0.598958 | Time: 00:00:00\n",
            "Epoch: 8 | Iter:    0 | Time: 00:01:14 | Train Loss: 0.7934 | Average Loss: 1.5371 \n",
            "Epoch: 8 | Iter:   20 | Time: 00:01:17 | Train Loss: 0.9234 | Average Loss: 1.5111 \n",
            "Epoch: 8 | Iter:   40 | Time: 00:01:20 | Train Loss: 0.7546 | Average Loss: 1.4858 \n",
            "Epoch: 8 | Iter:   60 | Time: 00:01:23 | Train Loss: 0.8899 | Average Loss: 1.4627 \n",
            "Accuracy: 0.593750 | Time: 00:00:00\n",
            "Epoch: 9 | Iter:    0 | Time: 00:01:25 | Train Loss: 0.6592 | Average Loss: 1.4541 \n",
            "Epoch: 9 | Iter:   20 | Time: 00:01:28 | Train Loss: 0.8122 | Average Loss: 1.4310 \n",
            "Epoch: 9 | Iter:   40 | Time: 00:01:31 | Train Loss: 0.7639 | Average Loss: 1.4075 \n",
            "Epoch: 9 | Iter:   60 | Time: 00:01:34 | Train Loss: 0.6955 | Average Loss: 1.3851 \n",
            "Accuracy: 0.591146 | Time: 00:00:00\n",
            "Epoch:10 | Iter:    0 | Time: 00:01:35 | Train Loss: 0.6043 | Average Loss: 1.3779 \n",
            "Epoch:10 | Iter:   20 | Time: 00:01:38 | Train Loss: 0.6165 | Average Loss: 1.3573 \n",
            "Epoch:10 | Iter:   40 | Time: 00:01:41 | Train Loss: 0.5334 | Average Loss: 1.3371 \n",
            "Epoch:10 | Iter:   60 | Time: 00:01:44 | Train Loss: 0.5782 | Average Loss: 1.3185 \n",
            "Accuracy: 0.611979 | Time: 00:00:00\n",
            "Epoch:11 | Iter:    0 | Time: 00:01:46 | Train Loss: 0.5037 | Average Loss: 1.3121 \n",
            "Epoch:11 | Iter:   20 | Time: 00:01:49 | Train Loss: 0.5629 | Average Loss: 1.2922 \n",
            "Epoch:11 | Iter:   40 | Time: 00:01:52 | Train Loss: 0.5629 | Average Loss: 1.2732 \n",
            "Epoch:11 | Iter:   60 | Time: 00:01:55 | Train Loss: 0.6501 | Average Loss: 1.2555 \n",
            "Accuracy: 0.611979 | Time: 00:00:00\n",
            "Epoch:12 | Iter:    0 | Time: 00:01:56 | Train Loss: 0.4833 | Average Loss: 1.2492 \n",
            "Epoch:12 | Iter:   20 | Time: 00:01:59 | Train Loss: 0.6026 | Average Loss: 1.2308 \n",
            "Epoch:12 | Iter:   40 | Time: 00:02:02 | Train Loss: 0.5092 | Average Loss: 1.2126 \n",
            "Epoch:12 | Iter:   60 | Time: 00:02:05 | Train Loss: 0.5080 | Average Loss: 1.1958 \n",
            "Accuracy: 0.611979 | Time: 00:00:00\n",
            "Epoch:13 | Iter:    0 | Time: 00:02:07 | Train Loss: 0.4515 | Average Loss: 1.1899 \n",
            "Epoch:13 | Iter:   20 | Time: 00:02:10 | Train Loss: 0.6301 | Average Loss: 1.1740 \n",
            "Epoch:13 | Iter:   40 | Time: 00:02:13 | Train Loss: 0.4083 | Average Loss: 1.1587 \n",
            "Epoch:13 | Iter:   60 | Time: 00:02:16 | Train Loss: 0.4074 | Average Loss: 1.1426 \n",
            "Accuracy: 0.606771 | Time: 00:00:00\n",
            "Epoch:14 | Iter:    0 | Time: 00:02:17 | Train Loss: 0.4584 | Average Loss: 1.1374 \n",
            "Epoch:14 | Iter:   20 | Time: 00:02:20 | Train Loss: 0.4698 | Average Loss: 1.1228 \n",
            "Epoch:14 | Iter:   40 | Time: 00:02:23 | Train Loss: 0.3118 | Average Loss: 1.1085 \n",
            "Epoch:14 | Iter:   60 | Time: 00:02:27 | Train Loss: 0.4094 | Average Loss: 1.0940 \n",
            "Accuracy: 0.627604 | Time: 00:00:00\n",
            "Epoch:15 | Iter:    0 | Time: 00:02:28 | Train Loss: 0.4720 | Average Loss: 1.0894 \n",
            "Epoch:15 | Iter:   20 | Time: 00:02:31 | Train Loss: 0.5138 | Average Loss: 1.0756 \n",
            "Epoch:15 | Iter:   40 | Time: 00:02:34 | Train Loss: 0.3999 | Average Loss: 1.0622 \n",
            "Epoch:15 | Iter:   60 | Time: 00:02:37 | Train Loss: 0.2877 | Average Loss: 1.0484 \n",
            "Accuracy: 0.611979 | Time: 00:00:00\n",
            "Epoch:16 | Iter:    0 | Time: 00:02:39 | Train Loss: 0.5054 | Average Loss: 1.0448 \n",
            "Epoch:16 | Iter:   20 | Time: 00:02:42 | Train Loss: 0.4177 | Average Loss: 1.0319 \n",
            "Epoch:16 | Iter:   40 | Time: 00:02:45 | Train Loss: 0.2374 | Average Loss: 1.0192 \n",
            "Epoch:16 | Iter:   60 | Time: 00:02:48 | Train Loss: 0.2844 | Average Loss: 1.0075 \n",
            "Accuracy: 0.638021 | Time: 00:00:00\n",
            "Epoch:17 | Iter:    0 | Time: 00:02:49 | Train Loss: 0.3326 | Average Loss: 1.0036 \n",
            "Epoch:17 | Iter:   20 | Time: 00:02:52 | Train Loss: 0.2738 | Average Loss: 0.9918 \n",
            "Epoch:17 | Iter:   40 | Time: 00:02:55 | Train Loss: 0.2619 | Average Loss: 0.9802 \n",
            "Epoch:17 | Iter:   60 | Time: 00:02:58 | Train Loss: 0.3822 | Average Loss: 0.9700 \n",
            "Accuracy: 0.643229 | Time: 00:00:00\n",
            "Epoch:18 | Iter:    0 | Time: 00:03:00 | Train Loss: 0.2309 | Average Loss: 0.9660 \n",
            "Epoch:18 | Iter:   20 | Time: 00:03:03 | Train Loss: 0.4418 | Average Loss: 0.9550 \n",
            "Epoch:18 | Iter:   40 | Time: 00:03:06 | Train Loss: 0.2365 | Average Loss: 0.9449 \n",
            "Epoch:18 | Iter:   60 | Time: 00:03:09 | Train Loss: 0.2281 | Average Loss: 0.9339 \n",
            "Accuracy: 0.614583 | Time: 00:00:00\n",
            "Epoch:19 | Iter:    0 | Time: 00:03:10 | Train Loss: 0.3708 | Average Loss: 0.9302 \n",
            "Epoch:19 | Iter:   20 | Time: 00:03:13 | Train Loss: 0.3116 | Average Loss: 0.9201 \n",
            "Epoch:19 | Iter:   40 | Time: 00:03:16 | Train Loss: 0.2424 | Average Loss: 0.9099 \n",
            "Epoch:19 | Iter:   60 | Time: 00:03:19 | Train Loss: 0.3000 | Average Loss: 0.9006 \n",
            "Accuracy: 0.625000 | Time: 00:00:00\n",
            "Epoch:20 | Iter:    0 | Time: 00:03:21 | Train Loss: 0.1421 | Average Loss: 0.8969 \n",
            "Epoch:20 | Iter:   20 | Time: 00:03:24 | Train Loss: 0.3600 | Average Loss: 0.8873 \n",
            "Epoch:20 | Iter:   40 | Time: 00:03:27 | Train Loss: 0.3435 | Average Loss: 0.8785 \n",
            "Epoch:20 | Iter:   60 | Time: 00:03:30 | Train Loss: 0.3160 | Average Loss: 0.8691 \n",
            "Accuracy: 0.619792 | Time: 00:00:00\n"
          ],
          "name": "stdout"
        }
      ]
    },
    {
      "cell_type": "code",
      "metadata": {
        "colab": {
          "base_uri": "https://localhost:8080/"
        },
        "id": "pkbQk3C2Un-D",
        "outputId": "051cbc8c-8a3b-4364-c65e-8e701d02fda6"
      },
      "source": [
        "evalModel(net_3,testloader_small)"
      ],
      "execution_count": null,
      "outputs": [
        {
          "output_type": "stream",
          "text": [
            "Accuracy: 0.619792 | Time: 00:00:00\n"
          ],
          "name": "stdout"
        }
      ]
    },
    {
      "cell_type": "markdown",
      "metadata": {
        "id": "K-ope9-mH4iu"
      },
      "source": [
        "**Answer**:\n",
        "\n",
        "Technique 3: Changed activation function to LeakyReLU\n",
        "\n",
        "Accuracy on test set: 0.619792  \n",
        "\n",
        "Accuracy increases/decreases: Increases"
      ]
    },
    {
      "cell_type": "markdown",
      "metadata": {
        "collapsed": true,
        "id": "nBHKIxzAYYM2"
      },
      "source": [
        "## Problem 2: Fine Tuning a Pre-Trained Deep Network\n",
        "Our convolutional network to this point isn't \"deep\". Fortunately, the representations learned by deep convolutional networks is that they generalize surprisingly well to other recognition tasks. \n",
        "\n",
        "But how do we use an existing deep network for a new recognition task? Take for instance,  [AlexNet](http://papers.nips.cc/paper/4824-imagenet-classification-with-deep-convolutional-neural-networks) network has 1000 units in the final layer corresponding to 1000 ImageNet categories.\n",
        "\n",
        "\n",
        "**Hints**:\n",
        "- Many pre-trained models are available in PyTorch at [here](http://pytorch.org/docs/master/torchvision/models.html).\n",
        "- For fine-tuning pretrained network using PyTorch, please read this [tutorial](http://pytorch.org/tutorials/beginner/transfer_learning_tutorial.html)."
      ]
    },
    {
      "cell_type": "markdown",
      "metadata": {
        "id": "ALojw_R5LrRt"
      },
      "source": [
        "### Problem 2.1\n",
        "\n",
        "**Strategy A**: *Fine-tune* an existing network. In this scenario you take an existing network, replace the final layer (or more) with random weights, and train the entire network again with images and ground truth labels for your recognition task. You are effectively treating the pre-trained deep network as a better initialization than the random weights used when training from scratch. When you don't have enough training data to train a complex network from scratch (e.g. with the 16 classes) this is an attractive option. Fine-tuning can work far better than Strategy B of taking the activations directly from an pre-trained CNN. For example, in [this paper](http://www.cc.gatech.edu/~hays/papers/deep_geo.pdf) from CVPR 2015, there wasn't enough data to train a deep network from scratch, but fine tuning led to 4 times higher accuracy than using off-the-shelf networks directly.\n",
        "\n",
        "(25 points) You are required to implement Strategy A to fine-tune a pre-trained **AlexNet** for this scene classification task. You should be able to achieve accuracy of **0.85** approximately. The minimum accuracy required for this section is **0.75**.\n",
        "\n",
        "Please provide detailed descriptions of:<br>\n",
        "(1) which layers of AlexNet have been replaced<br>\n",
        "(2) the architecture of the new layers added including activation methods (same as problem 1)<br>\n",
        "(3) the final accuracy on test set <br>"
      ]
    },
    {
      "cell_type": "code",
      "metadata": {
        "id": "VLG3WtEmYYM3",
        "colab": {
          "base_uri": "https://localhost:8080/"
        },
        "outputId": "7a2a37d6-6cda-4ea9-d890-229ca36936ed"
      },
      "source": [
        "# reload data with a larger size\n",
        "img_size = (224, 224)\n",
        "batch_size = 64 # training sample number per batch \n",
        "\n",
        "# load training dataset\n",
        "trainloader_large = list(load_dataset('./data/train/', img_size, batch_size=batch_size, shuffle=True, \n",
        "                                      augment=True, is_color=True, zero_centered=True))\n",
        "train_num = len(trainloader_large)\n",
        "print(\"Finish loading %d minibatches (batch_size=%d) of training samples.\" % (train_num, batch_size))\n",
        "\n",
        "# load testing dataset\n",
        "testloader_large = list(load_dataset('./data/test/', img_size, num_per_class=50, batch_size=batch_size, is_color=True, zero_centered=True))\n",
        "test_num = len(testloader_large)\n",
        "print(\"Finish loading %d minibatches (batch_size=%d) of testing samples.\" % (test_num, batch_size))"
      ],
      "execution_count": null,
      "outputs": [
        {
          "output_type": "stream",
          "text": [
            "Loading images from class: 0\n",
            "Loading images from class: 1\n",
            "Loading images from class: 2\n",
            "Loading images from class: 3\n",
            "Loading images from class: 4\n",
            "Loading images from class: 5\n",
            "Loading images from class: 6\n",
            "Loading images from class: 7\n",
            "Loading images from class: 8\n",
            "Loading images from class: 9\n",
            "Loading images from class: 10\n",
            "Loading images from class: 11\n",
            "Loading images from class: 12\n",
            "Loading images from class: 13\n",
            "Loading images from class: 14\n",
            "Loading images from class: 15\n",
            "Finish loading 67 minibatches (batch_size=64) of training samples.\n",
            "Loading images from class: 0\n",
            "Loading images from class: 1\n",
            "Loading images from class: 2\n",
            "Loading images from class: 3\n",
            "Loading images from class: 4\n",
            "Loading images from class: 5\n",
            "Loading images from class: 6\n",
            "Loading images from class: 7\n",
            "Loading images from class: 8\n",
            "Loading images from class: 9\n",
            "Loading images from class: 10\n",
            "Loading images from class: 11\n",
            "Loading images from class: 12\n",
            "Loading images from class: 13\n",
            "Loading images from class: 14\n",
            "Loading images from class: 15\n",
            "Finish loading 6 minibatches (batch_size=64) of testing samples.\n"
          ],
          "name": "stdout"
        }
      ]
    },
    {
      "cell_type": "code",
      "metadata": {
        "colab": {
          "base_uri": "https://localhost:8080/"
        },
        "id": "Txaf5iAnUZVW",
        "outputId": "dea0e0c3-63ac-4a47-be03-a7678aabd483"
      },
      "source": [
        "#--------------------------------------------------\n",
        "#       Fine-Tune Pretrained Network\n",
        "#--------------------------------------------------\n",
        "\n",
        "\n",
        "# load alexnet\n",
        "alexnet_a = torchvision.models.alexnet(pretrained=True)\n",
        "\n",
        "\n",
        "alexnet_a.classifier = nn.Sequential(\n",
        "    nn.Linear(9216, 2048),\n",
        "    nn.BatchNorm1d(2048),\n",
        "    nn.LeakyReLU(),\n",
        "    nn.Dropout(),\n",
        "    nn.Linear(2048, 128),\n",
        "    nn.BatchNorm1d(128),\n",
        "    nn.LeakyReLU(),\n",
        "    nn.Dropout(),\n",
        "    nn.Linear(128, 16),\n",
        "    \n",
        ")\n",
        "\n",
        "device = torch.device(\"cuda:0\" if torch.cuda.is_available() else \"cpu\")\n",
        "\n",
        "\n",
        "#--------------------------------------------------\n",
        "#       Start Training & Evaluation\n",
        "#--------------------------------------------------\n",
        "train_option = {}\n",
        "train_option['lr'] = 0.0001\n",
        "train_option['epoch'] = 20\n",
        "train_option['loss'] = nn.CrossEntropyLoss\n",
        "alexnet_a.train()\n",
        " \n",
        "alexnet_a = alexnet_a.to(device)\n",
        "\n",
        "trainModel(alexnet_a, trainloader_large, train_option)\n"
      ],
      "execution_count": null,
      "outputs": [
        {
          "output_type": "stream",
          "text": [
            "Epoch: 1 | Iter:    0 | Time: 00:00:02 | Train Loss: 2.9804 | Average Loss: 2.9804 \n",
            "Epoch: 1 | Iter:   20 | Time: 00:00:53 | Train Loss: 1.6303 | Average Loss: 2.1456 \n",
            "Epoch: 1 | Iter:   40 | Time: 00:01:44 | Train Loss: 1.4329 | Average Loss: 1.8761 \n",
            "Epoch: 1 | Iter:   60 | Time: 00:02:34 | Train Loss: 1.3591 | Average Loss: 1.6998 \n",
            "Epoch: 2 | Iter:    0 | Time: 00:02:53 | Train Loss: 1.1417 | Average Loss: 1.6531 \n",
            "Epoch: 2 | Iter:   20 | Time: 00:03:50 | Train Loss: 1.1275 | Average Loss: 1.5260 \n",
            "Epoch: 2 | Iter:   40 | Time: 00:04:40 | Train Loss: 0.9274 | Average Loss: 1.4324 \n",
            "Epoch: 2 | Iter:   60 | Time: 00:05:31 | Train Loss: 0.9042 | Average Loss: 1.3524 \n",
            "Epoch: 3 | Iter:    0 | Time: 00:05:50 | Train Loss: 0.8203 | Average Loss: 1.3271 \n",
            "Epoch: 3 | Iter:   20 | Time: 00:06:41 | Train Loss: 0.6490 | Average Loss: 1.2562 \n",
            "Epoch: 3 | Iter:   40 | Time: 00:07:32 | Train Loss: 0.7133 | Average Loss: 1.1993 \n",
            "Epoch: 3 | Iter:   60 | Time: 00:08:23 | Train Loss: 0.6445 | Average Loss: 1.1434 \n",
            "Epoch: 4 | Iter:    0 | Time: 00:08:42 | Train Loss: 0.6616 | Average Loss: 1.1268 \n",
            "Epoch: 4 | Iter:   20 | Time: 00:09:33 | Train Loss: 0.4892 | Average Loss: 1.0778 \n",
            "Epoch: 4 | Iter:   40 | Time: 00:10:24 | Train Loss: 0.5472 | Average Loss: 1.0351 \n",
            "Epoch: 4 | Iter:   60 | Time: 00:11:15 | Train Loss: 0.4306 | Average Loss: 0.9934 \n",
            "Epoch: 5 | Iter:    0 | Time: 00:11:33 | Train Loss: 0.4498 | Average Loss: 0.9799 \n",
            "Epoch: 5 | Iter:   20 | Time: 00:12:24 | Train Loss: 0.4650 | Average Loss: 0.9428 \n",
            "Epoch: 5 | Iter:   40 | Time: 00:13:16 | Train Loss: 0.3897 | Average Loss: 0.9093 \n",
            "Epoch: 5 | Iter:   60 | Time: 00:14:06 | Train Loss: 0.3367 | Average Loss: 0.8774 \n",
            "Epoch: 6 | Iter:    0 | Time: 00:14:24 | Train Loss: 0.3191 | Average Loss: 0.8667 \n",
            "Epoch: 6 | Iter:   20 | Time: 00:15:16 | Train Loss: 0.3536 | Average Loss: 0.8368 \n",
            "Epoch: 6 | Iter:   40 | Time: 00:16:07 | Train Loss: 0.3241 | Average Loss: 0.8094 \n",
            "Epoch: 6 | Iter:   60 | Time: 00:16:58 | Train Loss: 0.2809 | Average Loss: 0.7827 \n",
            "Epoch: 7 | Iter:    0 | Time: 00:17:16 | Train Loss: 0.2783 | Average Loss: 0.7739 \n",
            "Epoch: 7 | Iter:   20 | Time: 00:18:08 | Train Loss: 0.2432 | Average Loss: 0.7497 \n",
            "Epoch: 7 | Iter:   40 | Time: 00:18:59 | Train Loss: 0.2418 | Average Loss: 0.7269 \n",
            "Epoch: 7 | Iter:   60 | Time: 00:19:51 | Train Loss: 0.2281 | Average Loss: 0.7051 \n",
            "Epoch: 8 | Iter:    0 | Time: 00:20:09 | Train Loss: 0.2085 | Average Loss: 0.6980 \n",
            "Epoch: 8 | Iter:   20 | Time: 00:21:01 | Train Loss: 0.1824 | Average Loss: 0.6781 \n",
            "Epoch: 8 | Iter:   40 | Time: 00:21:52 | Train Loss: 0.2173 | Average Loss: 0.6593 \n",
            "Epoch: 8 | Iter:   60 | Time: 00:22:43 | Train Loss: 0.1724 | Average Loss: 0.6413 \n",
            "Epoch: 9 | Iter:    0 | Time: 00:23:01 | Train Loss: 0.1934 | Average Loss: 0.6352 \n",
            "Epoch: 9 | Iter:   20 | Time: 00:23:52 | Train Loss: 0.2074 | Average Loss: 0.6187 \n",
            "Epoch: 9 | Iter:   40 | Time: 00:24:44 | Train Loss: 0.1663 | Average Loss: 0.6029 \n",
            "Epoch: 9 | Iter:   60 | Time: 00:25:35 | Train Loss: 0.1261 | Average Loss: 0.5880 \n",
            "Epoch:10 | Iter:    0 | Time: 00:25:53 | Train Loss: 0.1456 | Average Loss: 0.5829 \n",
            "Epoch:10 | Iter:   20 | Time: 00:26:44 | Train Loss: 0.1298 | Average Loss: 0.5687 \n",
            "Epoch:10 | Iter:   40 | Time: 00:27:35 | Train Loss: 0.1360 | Average Loss: 0.5552 \n",
            "Epoch:10 | Iter:   60 | Time: 00:28:26 | Train Loss: 0.1207 | Average Loss: 0.5422 \n",
            "Epoch:11 | Iter:    0 | Time: 00:28:43 | Train Loss: 0.1452 | Average Loss: 0.5379 \n",
            "Epoch:11 | Iter:   20 | Time: 00:29:34 | Train Loss: 0.0986 | Average Loss: 0.5257 \n",
            "Epoch:11 | Iter:   40 | Time: 00:30:25 | Train Loss: 0.1235 | Average Loss: 0.5141 \n",
            "Epoch:11 | Iter:   60 | Time: 00:31:17 | Train Loss: 0.1024 | Average Loss: 0.5029 \n",
            "Epoch:12 | Iter:    0 | Time: 00:31:35 | Train Loss: 0.1140 | Average Loss: 0.4992 \n",
            "Epoch:12 | Iter:   20 | Time: 00:32:27 | Train Loss: 0.0839 | Average Loss: 0.4887 \n",
            "Epoch:12 | Iter:   40 | Time: 00:33:19 | Train Loss: 0.0981 | Average Loss: 0.4784 \n",
            "Epoch:12 | Iter:   60 | Time: 00:34:10 | Train Loss: 0.0742 | Average Loss: 0.4687 \n",
            "Epoch:13 | Iter:    0 | Time: 00:34:28 | Train Loss: 0.0725 | Average Loss: 0.4653 \n",
            "Epoch:13 | Iter:   20 | Time: 00:35:19 | Train Loss: 0.0726 | Average Loss: 0.4561 \n",
            "Epoch:13 | Iter:   40 | Time: 00:36:11 | Train Loss: 0.0804 | Average Loss: 0.4474 \n",
            "Epoch:13 | Iter:   60 | Time: 00:37:02 | Train Loss: 0.0894 | Average Loss: 0.4389 \n",
            "Epoch:14 | Iter:    0 | Time: 00:37:19 | Train Loss: 0.0922 | Average Loss: 0.4361 \n",
            "Epoch:14 | Iter:   20 | Time: 00:38:11 | Train Loss: 0.0624 | Average Loss: 0.4281 \n",
            "Epoch:14 | Iter:   40 | Time: 00:39:02 | Train Loss: 0.1093 | Average Loss: 0.4204 \n",
            "Epoch:14 | Iter:   60 | Time: 00:39:53 | Train Loss: 0.0708 | Average Loss: 0.4129 \n",
            "Epoch:15 | Iter:    0 | Time: 00:40:11 | Train Loss: 0.0808 | Average Loss: 0.4103 \n",
            "Epoch:15 | Iter:   20 | Time: 00:41:01 | Train Loss: 0.0808 | Average Loss: 0.4033 \n",
            "Epoch:15 | Iter:   40 | Time: 00:41:52 | Train Loss: 0.0838 | Average Loss: 0.3964 \n",
            "Epoch:15 | Iter:   60 | Time: 00:42:43 | Train Loss: 0.0760 | Average Loss: 0.3898 \n",
            "Epoch:16 | Iter:    0 | Time: 00:43:00 | Train Loss: 0.0486 | Average Loss: 0.3875 \n",
            "Epoch:16 | Iter:   20 | Time: 00:43:51 | Train Loss: 0.0472 | Average Loss: 0.3811 \n",
            "Epoch:16 | Iter:   40 | Time: 00:44:43 | Train Loss: 0.0546 | Average Loss: 0.3750 \n",
            "Epoch:16 | Iter:   60 | Time: 00:45:34 | Train Loss: 0.0502 | Average Loss: 0.3690 \n",
            "Epoch:17 | Iter:    0 | Time: 00:45:52 | Train Loss: 0.0805 | Average Loss: 0.3670 \n",
            "Epoch:17 | Iter:   20 | Time: 00:46:42 | Train Loss: 0.0635 | Average Loss: 0.3612 \n",
            "Epoch:17 | Iter:   40 | Time: 00:47:33 | Train Loss: 0.0643 | Average Loss: 0.3557 \n",
            "Epoch:17 | Iter:   60 | Time: 00:48:24 | Train Loss: 0.0495 | Average Loss: 0.3504 \n",
            "Epoch:18 | Iter:    0 | Time: 00:48:42 | Train Loss: 0.0481 | Average Loss: 0.3485 \n",
            "Epoch:18 | Iter:   20 | Time: 00:49:33 | Train Loss: 0.0526 | Average Loss: 0.3434 \n",
            "Epoch:18 | Iter:   40 | Time: 00:50:24 | Train Loss: 0.0613 | Average Loss: 0.3384 \n",
            "Epoch:18 | Iter:   60 | Time: 00:51:15 | Train Loss: 0.0461 | Average Loss: 0.3335 \n",
            "Epoch:19 | Iter:    0 | Time: 00:51:32 | Train Loss: 0.0633 | Average Loss: 0.3318 \n",
            "Epoch:19 | Iter:   20 | Time: 00:52:24 | Train Loss: 0.0401 | Average Loss: 0.3271 \n",
            "Epoch:19 | Iter:   40 | Time: 00:53:16 | Train Loss: 0.0595 | Average Loss: 0.3226 \n",
            "Epoch:19 | Iter:   60 | Time: 00:54:08 | Train Loss: 0.0379 | Average Loss: 0.3182 \n",
            "Epoch:20 | Iter:    0 | Time: 00:54:26 | Train Loss: 0.0583 | Average Loss: 0.3167 \n",
            "Epoch:20 | Iter:   20 | Time: 00:55:17 | Train Loss: 0.0283 | Average Loss: 0.3125 \n",
            "Epoch:20 | Iter:   40 | Time: 00:56:08 | Train Loss: 0.0543 | Average Loss: 0.3083 \n",
            "Epoch:20 | Iter:   60 | Time: 00:56:59 | Train Loss: 0.0301 | Average Loss: 0.3043 \n"
          ],
          "name": "stdout"
        }
      ]
    },
    {
      "cell_type": "code",
      "metadata": {
        "colab": {
          "base_uri": "https://localhost:8080/"
        },
        "id": "ZIHzaUJcPDH2",
        "outputId": "6d816396-27a7-48b2-a678-d90e301f5ce3"
      },
      "source": [
        "evalModel(alexnet_a,testloader_large)"
      ],
      "execution_count": null,
      "outputs": [
        {
          "output_type": "stream",
          "text": [
            "Accuracy: 0.846354 | Time: 00:00:05\n"
          ],
          "name": "stdout"
        }
      ]
    },
    {
      "cell_type": "markdown",
      "metadata": {
        "id": "asBxQT03O1XC"
      },
      "source": [
        "**Answer**:\n",
        "\n",
        "(1) which layers of AlexNet have been replaced\n",
        "\n",
        "Kept the feature layer same but replaced last classifier layer with dense fully connected layers\n",
        "\n",
        "(2) the architecture of the new layers added including activation methods (same as problem 1)\n",
        "\n",
        "\n",
        "\n",
        "Data augmentation: \n",
        "Added mirrored images by using np.flip along 0 axis\n",
        "\n",
        "Data normalization: \n",
        "Normalized the images by subtracting by mean\n",
        "\n",
        "Features Layers : Kept the same\n",
        "\n",
        "Classifier Layer 1: Same as alexnet (conv2d and pooling layer)\n",
        "\n",
        "Classifier Layer 2: Same as alexnet (adaptive average pooling layer)\n",
        "\n",
        "Classifier Layer 3: Replaced with custom layer -> It has\n",
        "\n",
        "a) Linear layer with 2048 intermediate features\n",
        "\n",
        "b) Batch Normalization layer\n",
        "\n",
        "c) LeakyReLU activation layer\n",
        "\n",
        "d) Dropout layer with p=0.5\n",
        "\n",
        "e) Linear layer with 128 intermediate features\n",
        "\n",
        "f) Batch Normalization layer\n",
        " \n",
        "g) LeakyReLU activation layer\n",
        "\n",
        "h) Dropout layer with p=0.5\n",
        "\n",
        "i) Linear layer with 16 final features\n",
        "\n",
        "\n",
        "...\n",
        "\n",
        "(3) the final accuracy on test set\n",
        "\n",
        "Accuracy on test set: 0.846354 \n",
        "\n"
      ]
    },
    {
      "cell_type": "markdown",
      "metadata": {
        "id": "nzEaPw-kMudB"
      },
      "source": [
        "### Problem 2.2\n",
        "**Strategy B**: One could use those 1000 activations as a feature in place of a hand crafted feature such as a bag-of-features representation. You would train a classifier (typically a linear SVM) in that 1000 dimensional feature space. However, those activations are clearly very object specific and may not generalize well to new recognition tasks. It is generally better to use the activations in slightly earlier layers of the network, e.g. the 4096 activations in the last 2nd fully-connected layer. You can often get away with sub-sampling those 4096 activations considerably, e.g. taking only the first 1000 activations.\n",
        "\n",
        "(25 points) Implement Strategy B where you use the activations of the pre-trained **AlexNet** as features to train **one-vs-all SVMs** for your scene classification task. Report the final accuracy on test set. You should be able to achieve accuracy of **0.80** approximately. The minimum accuracy required for this section is **0.70**."
      ]
    },
    {
      "cell_type": "code",
      "metadata": {
        "id": "K9pmTLWH7KIs"
      },
      "source": [
        "#--------------------------------------------------\n",
        "#       Get Features from AlexNet\n",
        "#--------------------------------------------------\n",
        "alexnet_b = torchvision.models.alexnet(pretrained=True)\n",
        "alexnet_b.eval()\n",
        "\n",
        "def extract_features(net, data):\n",
        "  feat = []\n",
        "  label = []\n",
        "  for iteration, (x, y) in enumerate(data):\n",
        "        batch_x = x.float().to(device)\n",
        "        batch_y = y.float().to(device)\n",
        "        outputs = net.features(batch_x)\n",
        "        feat.append(outputs.detach().cpu().numpy().flatten().reshape(len(x), 256 * 6 * 6))\n",
        "        label += list(batch_y.detach().cpu().numpy())\n",
        "  feat = np.vstack(feat)\n",
        "  label = np.array(label)\n",
        "  return feat, label\n",
        "\n",
        "\n",
        "alexnet_b = alexnet_b.to(device)\n",
        "train_feat, train_label = extract_features(alexnet_b, trainloader_large)\n",
        "test_feat, test_label = extract_features(alexnet_b, testloader_large)\n"
      ],
      "execution_count": null,
      "outputs": []
    },
    {
      "cell_type": "code",
      "metadata": {
        "id": "ghPvfDAUT-Xs",
        "colab": {
          "base_uri": "https://localhost:8080/"
        },
        "outputId": "ce657721-c8b9-4d78-8b9b-7ba9107b379f"
      },
      "source": [
        "from sklearn import svm \n",
        "\n",
        "clf = svm.SVC(kernel='rbf')\n",
        "clf.fit(train_feat, train_label)\n",
        "\n",
        "test_label_pred = clf.predict(test_feat)\n",
        "\n",
        "test_acc = sum(np.array(test_label_pred) == test_label) / float(len(test_label))\n",
        "\n",
        "print(f\"Accuracy on test dataset: {test_acc:.5f} \")"
      ],
      "execution_count": null,
      "outputs": [
        {
          "output_type": "stream",
          "text": [
            "Accuracy on test dataset: 0.83854 \n"
          ],
          "name": "stdout"
        }
      ]
    },
    {
      "cell_type": "markdown",
      "metadata": {
        "id": "aRw9JWtMSrWi"
      },
      "source": [
        "**Answer**:\n",
        "\n",
        "Accuracy on test set: 0.83854 "
      ]
    },
    {
      "cell_type": "markdown",
      "metadata": {
        "id": "zJHZ5NB4O8vE"
      },
      "source": [
        "### Problem 2.3 (Bonus)\n",
        "\n",
        "(Bonus: 10 points) Bonus will be given to those who fine-tune the [ResNet network](https://pytorch.org/docs/stable/_modules/torchvision/models/resnet.html) [(paper)](https://arxiv.org/abs/1512.03385) and compare performance with AlexNet. Explain why ResNet performed better or worse. You are **required** to use **resnet50** model. You should be able to achieve accuracy of **0.99** approximately. The minimum accuracy required for this section is **0.85**."
      ]
    },
    {
      "cell_type": "code",
      "metadata": {
        "id": "wC0I4MWBk7pr",
        "colab": {
          "base_uri": "https://localhost:8080/"
        },
        "outputId": "849aab78-599d-4b05-94e5-0532831369c4"
      },
      "source": [
        "# load alexnet\n",
        "resnet = torchvision.models.resnet50(pretrained=True)\n",
        "##########--WRITE YOUR CODE HERE--##########\n",
        " \n",
        "resnet.classifier = nn.Sequential(\n",
        "    nn.Linear(9216, 2048),\n",
        "    nn.BatchNorm1d(2048),\n",
        "    nn.LeakyReLU(),\n",
        "    nn.Dropout(),\n",
        "    nn.Linear(2048, 128),\n",
        "    nn.BatchNorm1d(128),\n",
        "    nn.LeakyReLU(),\n",
        "    nn.Dropout(),\n",
        "    nn.Linear(128, 16),\n",
        "    \n",
        ")\n",
        "\n",
        "device = torch.device(\"cuda:0\" if torch.cuda.is_available() else \"cpu\")\n",
        "\n",
        "#--------------------------------------------------\n",
        "#       Start Training & Evaluation\n",
        "#--------------------------------------------------\n",
        "train_option = {}\n",
        "train_option['lr'] = 0.0001\n",
        "train_option['epoch'] = 5\n",
        "train_option['loss'] = nn.CrossEntropyLoss\n",
        "resnet.train()\n",
        "\n",
        "resnet = resnet.to(device)\n",
        "trainModel(resnet, trainloader_large, train_option)"
      ],
      "execution_count": null,
      "outputs": [
        {
          "output_type": "stream",
          "text": [
            "Epoch: 1 | Iter:    0 | Time: 00:00:25 | Train Loss: 9.9212 | Average Loss: 9.9212 \n",
            "Epoch: 1 | Iter:   20 | Time: 00:08:01 | Train Loss: 0.5416 | Average Loss: 3.4820 \n",
            "Epoch: 1 | Iter:   40 | Time: 00:15:24 | Train Loss: 0.4591 | Average Loss: 2.0260 \n",
            "Epoch: 1 | Iter:   60 | Time: 00:22:51 | Train Loss: 0.1120 | Average Loss: 1.4723 \n",
            "Epoch: 2 | Iter:    0 | Time: 00:25:27 | Train Loss: 0.0917 | Average Loss: 1.3473 \n",
            "Epoch: 2 | Iter:   20 | Time: 00:32:56 | Train Loss: 0.0195 | Average Loss: 1.0597 \n",
            "Epoch: 2 | Iter:   40 | Time: 00:40:31 | Train Loss: 0.0418 | Average Loss: 0.8719 \n",
            "Epoch: 2 | Iter:   60 | Time: 00:48:02 | Train Loss: 0.0289 | Average Loss: 0.7408 \n",
            "Epoch: 3 | Iter:    0 | Time: 00:50:46 | Train Loss: 0.0984 | Average Loss: 0.7042 \n",
            "Epoch: 3 | Iter:   20 | Time: 00:58:17 | Train Loss: 0.0081 | Average Loss: 0.6144 \n",
            "Epoch: 3 | Iter:   40 | Time: 01:05:54 | Train Loss: 0.0040 | Average Loss: 0.5453 \n",
            "Epoch: 3 | Iter:   60 | Time: 01:13:32 | Train Loss: 0.0025 | Average Loss: 0.4900 \n",
            "Epoch: 4 | Iter:    0 | Time: 01:16:10 | Train Loss: 0.0033 | Average Loss: 0.4732 \n",
            "Epoch: 4 | Iter:   20 | Time: 01:23:46 | Train Loss: 0.0038 | Average Loss: 0.4309 \n",
            "Epoch: 4 | Iter:   40 | Time: 01:31:18 | Train Loss: 0.0013 | Average Loss: 0.3958 \n",
            "Epoch: 4 | Iter:   60 | Time: 01:38:48 | Train Loss: 0.0032 | Average Loss: 0.3658 \n",
            "Epoch: 5 | Iter:    0 | Time: 01:41:26 | Train Loss: 0.0025 | Average Loss: 0.3564 \n",
            "Epoch: 5 | Iter:   20 | Time: 01:49:00 | Train Loss: 0.0036 | Average Loss: 0.3319 \n",
            "Epoch: 5 | Iter:   40 | Time: 01:56:30 | Train Loss: 0.0018 | Average Loss: 0.3107 \n",
            "Epoch: 5 | Iter:   60 | Time: 02:04:02 | Train Loss: 0.0012 | Average Loss: 0.2920 \n"
          ],
          "name": "stdout"
        }
      ]
    },
    {
      "cell_type": "code",
      "metadata": {
        "colab": {
          "base_uri": "https://localhost:8080/"
        },
        "id": "-rYS4NO0R4JM",
        "outputId": "7d4e584e-9e79-447f-c24e-5dbcdfc2d641"
      },
      "source": [
        "evalModel(resnet,testloader_large)"
      ],
      "execution_count": null,
      "outputs": [
        {
          "output_type": "stream",
          "text": [
            "Accuracy: 0.872396 | Time: 00:00:51\n"
          ],
          "name": "stdout"
        }
      ]
    },
    {
      "cell_type": "markdown",
      "metadata": {
        "id": "HIDUPJEmeHrM"
      },
      "source": [
        "**Answer**:\n",
        "\n",
        "Accuracy on test set: 0.872396  \n",
        "\n",
        "\n",
        "(Increasing epochs would increase the accuracy further)\n",
        "\n",
        "\n",
        "ResNet (0.87 with 5 epochs) performs better than alexnet (0.84 with 20 epochs) even with fewer epochs because ResNet is a deeper network. Even though there are similar number of parameters for both,due to complex computations, Resnet even takes much more time for training the data."
      ]
    },
    {
      "cell_type": "markdown",
      "metadata": {
        "id": "5UGefIYpYYNF"
      },
      "source": [
        "## Submission guidelines\n",
        "---\n",
        "Extract the downloaded .zip file to a folder of your preference. The input and output paths are predefined and **DO NOT** change them, (we assume that 'Surname_Givenname_SBUID_hw4' is your working directory, and all the paths are relative to this directory).  The image read and write functions are already written for you. All you need to do is to fill in the blanks as indicated to generate proper outputs. **DO NOT** zip and upload the dataset on blackboard due to size limit.\n",
        "\n",
        "When submitting your .zip file through blackboard, please\n",
        "-- name your .zip file as **Surname_Givenname_SBUID_hw*.zip**.\n",
        "\n",
        "This zip file should include:\n",
        "```\n",
        "Surname_Givenname_SBUID_hw*\n",
        "        |---Surname_Givenname_SBUID_hw*.ipynb\n",
        "        |---Surname_Givenname_SBUID_hw*.pdf\n",
        "```\n",
        "\n",
        "For instance, student Yann LeCun should submit a zip file named \"LeCun_Yann_111134567_hw4.zip\" for homework4 in this structure:\n",
        "```\n",
        "LeCun_Yann_111134567_hw4\n",
        "        |---LeCun_Yann_111134567_hw4.ipynb\n",
        "        |---LeCun_Yann_111134567_hw4.pdf\n",
        "```\n",
        "\n",
        "The **Surname_Givenname_SBUID_hw*.pdf** should include a **google shared link**. To generate the **google shared link**, first create a folder named **Surname_Givenname_SBUID_hw*** in your Google Drive with your Stony Brook account. The structure of the files in the folder should be exactly the same as the one you downloaded. If you alter the folder structures, the grading of your homework will be significantly delayed and possibly penalized.\n",
        "\n",
        "Then right click this folder, click ***Get shareable link***, in the People textfield, enter TA's emails. Make sure that TAs who have the link **can edit**, ***not just*** **can view**, and also **uncheck** the **Notify people** box.\n",
        "\n",
        "Colab has a good feature of version control, you should take advantage of this to save your work properly. However, the timestamp of the submission made in blackboard is the only one that we consider for grading. To be more specific, we will only grade the version of your code right before the timestamp of the submission made in blackboard. \n",
        "\n",
        "You are encouraged to post and answer questions on Piazza. Based on the amount of email that we have received in past years, there might be dealys in replying to personal emails. Please ask questions on Piazza and send emails only for personal issues.\n",
        "\n",
        "Be aware that your code will undergo plagiarism check both vertically and horizontally. Please do your own work.\n",
        "\n",
        "**Late submission penalty:** <br>\n",
        "There will be a 10% penalty per day for late submission. However, you will have 4 days throughout the whole semester to submit late without penalty. Note that the grace period is calculated by days instead of hours. If you submit the homework one minute after the deadline, one late day will be counted. Likewise, if you submit one minute after the deadline, the 10% penaly will be imposed if not using the grace period."
      ]
    },
    {
      "cell_type": "markdown",
      "metadata": {
        "id": "AYJOi8QYYYNG"
      },
      "source": [
        "<!--Write your report here in markdown or html-->\n"
      ]
    }
  ]
}